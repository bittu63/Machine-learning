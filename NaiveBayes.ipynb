{
 "cells": [
  {
   "cell_type": "code",
   "execution_count": 1,
   "id": "e2faf018",
   "metadata": {},
   "outputs": [],
   "source": [
    "import numpy as np"
   ]
  },
  {
   "cell_type": "code",
   "execution_count": null,
   "id": "cef26130",
   "metadata": {},
   "outputs": [],
   "source": [
    "def fit(x_train,y_train):\n",
    "    result={}\n",
    "    class_values=set(Y_train)\n",
    "    for i in class_values:\n",
    "        results[i]={}\n",
    "        result['total_data']=len(y_train)\n",
    "        current_class_rows=(y_train==i)\n",
    "        x_train_current=x_train[current_class_rows]\n",
    "        y_train_current=x_train[current_class_rows]\n",
    "        num_features=x_train.shape[1]\n",
    "        result[i]['total_counts']=len(y_train_current)\n",
    "        for j in range(num_features):\n",
    "            result[i][j]={}\n",
    "            allpossible_values=set(x_train[:,j])\n",
    "            for k in allpossible_value:\n",
    "                result[i][j][k]=(x_train_current[:,j]==k).sum()\n",
    "        return result"
   ]
  },
  {
   "cell_type": "code",
   "execution_count": null,
   "id": "84dda1eb",
   "metadata": {},
   "outputs": [],
   "source": [
    "def predSinglepoint(result,x):\n",
    "    classes=result.keys()\n",
    "    for current_class in classes:\n",
    "        p_current_class=probability(result,x,current_class)\n",
    "        "
   ]
  },
  {
   "cell_type": "code",
   "execution_count": null,
   "id": "ed6f2475",
   "metadata": {},
   "outputs": [],
   "source": [
    "def predict(result,x_test):\n",
    "    y_pred=[]\n",
    "    for x in x_test:\n",
    "        x_class=predictSinglepoint(result,x)\n",
    "        y_pred.append(x_class)\n",
    "    return y_pred"
   ]
  }
 ],
 "metadata": {
  "kernelspec": {
   "display_name": "Python 3 (ipykernel)",
   "language": "python",
   "name": "python3"
  },
  "language_info": {
   "codemirror_mode": {
    "name": "ipython",
    "version": 3
   },
   "file_extension": ".py",
   "mimetype": "text/x-python",
   "name": "python",
   "nbconvert_exporter": "python",
   "pygments_lexer": "ipython3",
   "version": "3.9.7"
  }
 },
 "nbformat": 4,
 "nbformat_minor": 5
}

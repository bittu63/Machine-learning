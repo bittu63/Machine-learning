{
 "cells": [
  {
   "cell_type": "code",
   "execution_count": 1,
   "id": "a8521b9d",
   "metadata": {},
   "outputs": [],
   "source": [
    "import numpy as np\n",
    "from sklearn import preprocessing\n",
    "from sklearn.preprocessing import MinMaxScaler"
   ]
  },
  {
   "cell_type": "code",
   "execution_count": 2,
   "id": "3c81dcf5",
   "metadata": {},
   "outputs": [],
   "source": [
    "x=np.array([40,10,100,70,40])"
   ]
  },
  {
   "cell_type": "code",
   "execution_count": 3,
   "id": "1f237d60",
   "metadata": {},
   "outputs": [],
   "source": [
    "X_scaled=preprocessing.scale(x)"
   ]
  },
  {
   "cell_type": "code",
   "execution_count": 6,
   "id": "6dadffda",
   "metadata": {},
   "outputs": [
    {
     "data": {
      "text/plain": [
       "-3.3306690738754695e-17"
      ]
     },
     "execution_count": 6,
     "metadata": {},
     "output_type": "execute_result"
    }
   ],
   "source": [
    "X_scaled.mean()"
   ]
  },
  {
   "cell_type": "code",
   "execution_count": 7,
   "id": "59fb69b9",
   "metadata": {},
   "outputs": [],
   "source": [
    "x=x.reshape(-1,1)"
   ]
  },
  {
   "cell_type": "code",
   "execution_count": 11,
   "id": "00a39ff7",
   "metadata": {},
   "outputs": [],
   "source": [
    "scaler = MinMaxScaler(feature_range=(5,20))"
   ]
  },
  {
   "cell_type": "code",
   "execution_count": 12,
   "id": "11dbfa7b",
   "metadata": {},
   "outputs": [
    {
     "name": "stdout",
     "output_type": "stream",
     "text": [
      "MinMaxScaler()\n"
     ]
    }
   ],
   "source": [
    "print(scaler.fit(x))"
   ]
  },
  {
   "cell_type": "code",
   "execution_count": 14,
   "id": "ab4edb8d",
   "metadata": {},
   "outputs": [
    {
     "name": "stdout",
     "output_type": "stream",
     "text": [
      "[[0.33]\n",
      " [0.  ]\n",
      " [1.  ]\n",
      " [0.67]\n",
      " [0.33]]\n"
     ]
    }
   ],
   "source": [
    "print(scaler.transform(x).round(2))"
   ]
  },
  {
   "cell_type": "code",
   "execution_count": null,
   "id": "46388eeb",
   "metadata": {},
   "outputs": [],
   "source": []
  }
 ],
 "metadata": {
  "kernelspec": {
   "display_name": "Python 3 (ipykernel)",
   "language": "python",
   "name": "python3"
  },
  "language_info": {
   "codemirror_mode": {
    "name": "ipython",
    "version": 3
   },
   "file_extension": ".py",
   "mimetype": "text/x-python",
   "name": "python",
   "nbconvert_exporter": "python",
   "pygments_lexer": "ipython3",
   "version": "3.9.7"
  }
 },
 "nbformat": 4,
 "nbformat_minor": 5
}

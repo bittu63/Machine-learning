{
 "cells": [
  {
   "cell_type": "code",
   "execution_count": 1,
   "id": "23e7f84b",
   "metadata": {},
   "outputs": [],
   "source": [
    "import numpy as np"
   ]
  },
  {
   "cell_type": "code",
   "execution_count": 3,
   "id": "e1e58444",
   "metadata": {},
   "outputs": [],
   "source": [
    "data=np.loadtxt('https://files.codingninjas.in/data-6984.csv',delimiter=',')"
   ]
  },
  {
   "cell_type": "code",
   "execution_count": 45,
   "id": "1b0d4858",
   "metadata": {},
   "outputs": [],
   "source": [
    "x=data[:,0].reshape(-1,1)\n",
    "y=data[:,1]"
   ]
  },
  {
   "cell_type": "code",
   "execution_count": 46,
   "id": "f93b8ca3",
   "metadata": {},
   "outputs": [
    {
     "data": {
      "text/plain": [
       "(array([[32.50234527],\n",
       "        [53.42680403],\n",
       "        [61.53035803],\n",
       "        [47.47563963],\n",
       "        [59.81320787],\n",
       "        [55.14218841],\n",
       "        [52.21179669],\n",
       "        [39.29956669],\n",
       "        [48.10504169],\n",
       "        [52.55001444],\n",
       "        [45.41973014],\n",
       "        [54.35163488],\n",
       "        [44.1640495 ],\n",
       "        [58.16847072],\n",
       "        [56.72720806],\n",
       "        [48.95588857],\n",
       "        [44.68719623],\n",
       "        [60.29732685],\n",
       "        [45.61864377],\n",
       "        [38.81681754],\n",
       "        [66.18981661],\n",
       "        [65.41605175],\n",
       "        [47.48120861],\n",
       "        [41.57564262],\n",
       "        [51.84518691],\n",
       "        [59.37082201],\n",
       "        [57.31000344],\n",
       "        [63.61556125],\n",
       "        [46.73761941],\n",
       "        [50.55676015],\n",
       "        [52.22399609],\n",
       "        [35.56783005],\n",
       "        [42.43647694],\n",
       "        [58.16454011],\n",
       "        [57.50444762],\n",
       "        [45.44053073],\n",
       "        [61.89622268],\n",
       "        [33.09383174],\n",
       "        [36.43600951],\n",
       "        [37.67565486],\n",
       "        [44.55560838],\n",
       "        [43.31828263],\n",
       "        [50.07314563],\n",
       "        [43.87061265],\n",
       "        [62.99748075],\n",
       "        [32.66904376],\n",
       "        [40.16689901],\n",
       "        [53.57507753],\n",
       "        [33.86421497],\n",
       "        [64.70713867],\n",
       "        [38.11982403],\n",
       "        [44.50253806],\n",
       "        [40.59953838],\n",
       "        [41.72067636],\n",
       "        [51.08863468],\n",
       "        [55.0780959 ],\n",
       "        [41.37772653],\n",
       "        [62.49469743],\n",
       "        [49.20388754],\n",
       "        [41.10268519],\n",
       "        [41.18201611],\n",
       "        [50.18638949],\n",
       "        [52.37844622],\n",
       "        [50.13548549],\n",
       "        [33.64470601],\n",
       "        [39.55790122],\n",
       "        [56.13038882],\n",
       "        [57.36205213],\n",
       "        [60.26921439],\n",
       "        [35.67809389],\n",
       "        [31.588117  ],\n",
       "        [53.66093226],\n",
       "        [46.68222865],\n",
       "        [43.10782022],\n",
       "        [70.34607562],\n",
       "        [44.49285588],\n",
       "        [57.5045333 ],\n",
       "        [36.93007661],\n",
       "        [55.80573336],\n",
       "        [38.95476907],\n",
       "        [56.9012147 ],\n",
       "        [56.86890066],\n",
       "        [34.3331247 ],\n",
       "        [59.04974121],\n",
       "        [57.78822399],\n",
       "        [54.28232871],\n",
       "        [51.0887199 ],\n",
       "        [50.28283635],\n",
       "        [44.21174175],\n",
       "        [38.00548801],\n",
       "        [32.94047994],\n",
       "        [53.69163957],\n",
       "        [68.76573427],\n",
       "        [46.2309665 ],\n",
       "        [68.31936082],\n",
       "        [50.03017434],\n",
       "        [49.23976534],\n",
       "        [50.03957594],\n",
       "        [48.14985889],\n",
       "        [25.12848465]]),\n",
       " array([ 31.70700585,  68.77759598,  62.5623823 ,  71.54663223,\n",
       "         87.23092513,  78.21151827,  79.64197305,  59.17148932,\n",
       "         75.3312423 ,  71.30087989,  55.16567715,  82.47884676,\n",
       "         62.00892325,  75.39287043,  81.43619216,  60.72360244,\n",
       "         82.89250373,  97.37989686,  48.84715332,  56.87721319,\n",
       "         83.87856466, 118.5912173 ,  57.25181946,  51.39174408,\n",
       "         75.38065167,  74.76556403,  95.45505292,  95.22936602,\n",
       "         79.05240617,  83.43207142,  63.35879032,  41.4128853 ,\n",
       "         76.61734128,  96.76956643,  74.08413012,  66.58814441,\n",
       "         77.76848242,  50.71958891,  62.12457082,  60.81024665,\n",
       "         52.68298337,  58.56982472,  82.90598149,  61.4247098 ,\n",
       "        115.2441528 ,  45.57058882,  54.0840548 ,  87.99445276,\n",
       "         52.72549438,  93.57611869,  80.16627545,  65.10171157,\n",
       "         65.56230126,  65.28088692,  73.43464155,  71.13972786,\n",
       "         79.10282968,  86.52053844,  84.74269781,  59.35885025,\n",
       "         61.68403752,  69.84760416,  86.09829121,  59.10883927,\n",
       "         69.89968164,  44.86249071,  85.49806778,  95.53668685,\n",
       "         70.25193442,  52.72173496,  50.39267014,  63.64239878,\n",
       "         72.24725107,  57.81251298, 104.25710159,  86.64202032,\n",
       "         91.486778  ,  55.23166089,  79.55043668,  44.84712424,\n",
       "         80.20752314,  83.14274979,  55.72348926,  77.63418251,\n",
       "         99.05141484,  79.12064627,  69.58889785,  69.51050331,\n",
       "         73.68756432,  61.36690454,  67.17065577,  85.66820315,\n",
       "        114.85387123,  90.12357207,  97.91982104,  81.53699078,\n",
       "         72.11183247,  85.23200734,  66.22495789,  53.45439421]))"
      ]
     },
     "execution_count": 46,
     "metadata": {},
     "output_type": "execute_result"
    }
   ],
   "source": [
    "x,y"
   ]
  },
  {
   "cell_type": "code",
   "execution_count": 47,
   "id": "cf11f95d",
   "metadata": {},
   "outputs": [],
   "source": [
    "from sklearn import model_selection\n",
    "x_train,x_test,y_train,y_test=model_selection.train_test_split(x,y)"
   ]
  },
  {
   "cell_type": "code",
   "execution_count": 48,
   "id": "f1a11442",
   "metadata": {},
   "outputs": [],
   "source": [
    "from sklearn.linear_model import LinearRegression\n",
    "alg1=LinearRegression()"
   ]
  },
  {
   "cell_type": "code",
   "execution_count": 49,
   "id": "8486d3f1",
   "metadata": {},
   "outputs": [
    {
     "data": {
      "text/plain": [
       "LinearRegression()"
      ]
     },
     "execution_count": 49,
     "metadata": {},
     "output_type": "execute_result"
    }
   ],
   "source": [
    "alg1.fit(x_train,y_train)"
   ]
  },
  {
   "cell_type": "code",
   "execution_count": 50,
   "id": "57ca50b2",
   "metadata": {},
   "outputs": [],
   "source": [
    "m=alg1.coef_[0]"
   ]
  },
  {
   "cell_type": "code",
   "execution_count": 51,
   "id": "f5883e8b",
   "metadata": {},
   "outputs": [],
   "source": [
    "c=alg1.intercept_"
   ]
  },
  {
   "cell_type": "code",
   "execution_count": 52,
   "id": "76263776",
   "metadata": {},
   "outputs": [],
   "source": [
    "y_pred=alg1.predict(x_test)"
   ]
  },
  {
   "cell_type": "code",
   "execution_count": 53,
   "id": "621ad214",
   "metadata": {},
   "outputs": [],
   "source": [
    "import matplotlib.pyplot as plt"
   ]
  },
  {
   "cell_type": "code",
   "execution_count": 54,
   "id": "5b5aa245",
   "metadata": {},
   "outputs": [
    {
     "data": {
      "image/png": "[encoded data removed]",
      "text/plain": [
       "<Figure size 432x288 with 1 Axes>"
      ]
     },
     "metadata": {
      "needs_background": "light"
     },
     "output_type": "display_data"
    }
   ],
   "source": [
    "import matplotlib.pyplot as plt\n",
    "x_line=np.arange(30,70,0.1)\n",
    "y_line=m*x_line+c\n",
    "plt.plot(x_line,y_line,color='r')\n",
    "x_train=x_train.reshape(75)\n",
    "plt.scatter(x_train,y_train)\n",
    "plt.show()"
   ]
  },
  {
   "cell_type": "code",
   "execution_count": 55,
   "id": "f1b3f614",
   "metadata": {},
   "outputs": [
    {
     "data": {
      "image/png": "[encoded data removed]",
      "text/plain": [
       "<Figure size 432x288 with 1 Axes>"
      ]
     },
     "metadata": {
      "needs_background": "light"
     },
     "output_type": "display_data"
    }
   ],
   "source": [
    "import matplotlib.pyplot as plt\n",
    "x_line=np.arange(30,70,0.1)\n",
    "y_line=m*x_line+c\n",
    "plt.plot(x_line,y_line,color='r')\n",
    "x_train=x_train.reshape(75)\n",
    "plt.scatter(x_test,y_test)\n",
    "plt.show()"
   ]
  },
  {
   "cell_type": "code",
   "execution_count": 67,
   "id": "54e26afc",
   "metadata": {},
   "outputs": [],
   "source": [
    "x_t=x_train.reshape(-1,1)"
   ]
  },
  {
   "cell_type": "code",
   "execution_count": 66,
   "id": "0e401b2c",
   "metadata": {},
   "outputs": [
    {
     "data": {
      "text/plain": [
       "(75,)"
      ]
     },
     "execution_count": 66,
     "metadata": {},
     "output_type": "execute_result"
    }
   ],
   "source": [
    "x_t.shape"
   ]
  },
  {
   "cell_type": "code",
   "execution_count": 57,
   "id": "a0bd3609",
   "metadata": {},
   "outputs": [
    {
     "data": {
      "text/plain": [
       "((75,), (75,))"
      ]
     },
     "execution_count": 57,
     "metadata": {},
     "output_type": "execute_result"
    }
   ],
   "source": [
    "x_train.shape,y_train.shape"
   ]
  },
  {
   "cell_type": "code",
   "execution_count": 58,
   "id": "b5bb9dd4",
   "metadata": {},
   "outputs": [
    {
     "data": {
      "text/plain": [
       "0.7212662411069072"
      ]
     },
     "execution_count": 58,
     "metadata": {},
     "output_type": "execute_result"
    }
   ],
   "source": [
    "alg1.score(x_test,y_test)"
   ]
  },
  {
   "cell_type": "code",
   "execution_count": 68,
   "id": "358c4a56",
   "metadata": {},
   "outputs": [
    {
     "data": {
      "text/plain": [
       "0.5255125527010145"
      ]
     },
     "execution_count": 68,
     "metadata": {},
     "output_type": "execute_result"
    }
   ],
   "source": [
    "alg1.score(x_t,y_train)"
   ]
  },
  {
   "cell_type": "code",
   "execution_count": null,
   "id": "ba8e4cc1",
   "metadata": {},
   "outputs": [],
   "source": []
  }
 ],
 "metadata": {
  "kernelspec": {
   "display_name": "Python 3 (ipykernel)",
   "language": "python",
   "name": "python3"
  },
  "language_info": {
   "codemirror_mode": {
    "name": "ipython",
    "version": 3
   },
   "file_extension": ".py",
   "mimetype": "text/x-python",
   "name": "python",
   "nbconvert_exporter": "python",
   "pygments_lexer": "ipython3",
   "version": "3.9.7"
  }
 },
 "nbformat": 4,
 "nbformat_minor": 5
}

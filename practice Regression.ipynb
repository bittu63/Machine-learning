{
 "cells": [
  {
   "cell_type": "code",
   "execution_count": 1,
   "id": "150e1c97",
   "metadata": {},
   "outputs": [],
   "source": [
    "import numpy as np"
   ]
  },
  {
   "cell_type": "code",
   "execution_count": 2,
   "id": "f8378dec",
   "metadata": {},
   "outputs": [],
   "source": [
    "data=np.loadtxt('https://files.codingninjas.in/data-6984.csv',delimiter=',')\n",
    "x=data[:,0].reshape(-1,1)\n",
    "y=data[:,1]"
   ]
  },
  {
   "cell_type": "code",
   "execution_count": 3,
   "id": "b9d2fee8",
   "metadata": {},
   "outputs": [],
   "source": [
    "from sklearn.model_selection import train_test_split"
   ]
  },
  {
   "cell_type": "code",
   "execution_count": 4,
   "id": "3f2c197e",
   "metadata": {},
   "outputs": [],
   "source": [
    "x_train,x_test,y_train,y_test=train_test_split(x,y,test_size=.3,random_state=1)"
   ]
  },
  {
   "cell_type": "code",
   "execution_count": 5,
   "id": "3e0c0894",
   "metadata": {},
   "outputs": [
    {
     "name": "stdout",
     "output_type": "stream",
     "text": [
      "(70, 1)\n",
      "(70,)\n",
      "(30, 1)\n",
      "(30,)\n"
     ]
    }
   ],
   "source": [
    "print(x_train.shape)\n",
    "print(y_train.shape)\n",
    "print(x_test.shape)\n",
    "print(y_test.shape)"
   ]
  },
  {
   "cell_type": "code",
   "execution_count": 6,
   "id": "d09995e8",
   "metadata": {},
   "outputs": [],
   "source": [
    "from sklearn.linear_model import LinearRegression"
   ]
  },
  {
   "cell_type": "code",
   "execution_count": 7,
   "id": "f10f5546",
   "metadata": {},
   "outputs": [],
   "source": [
    "alg1=LinearRegression()"
   ]
  },
  {
   "cell_type": "code",
   "execution_count": 8,
   "id": "b6f8fb42",
   "metadata": {},
   "outputs": [
    {
     "data": {
      "text/plain": [
       "LinearRegression()"
      ]
     },
     "execution_count": 8,
     "metadata": {},
     "output_type": "execute_result"
    }
   ],
   "source": [
    "alg1.fit(x_train,y_train)"
   ]
  },
  {
   "cell_type": "code",
   "execution_count": 9,
   "id": "8bbf3568",
   "metadata": {},
   "outputs": [],
   "source": [
    "y_pred=alg1.predict(x_test)"
   ]
  },
  {
   "cell_type": "code",
   "execution_count": 10,
   "id": "0ed07e89",
   "metadata": {},
   "outputs": [
    {
     "data": {
      "text/plain": [
       "1.212114677203583"
      ]
     },
     "execution_count": 10,
     "metadata": {},
     "output_type": "execute_result"
    }
   ],
   "source": [
    "m=alg1.coef_[0]\n",
    "m"
   ]
  },
  {
   "cell_type": "code",
   "execution_count": 11,
   "id": "731621ae",
   "metadata": {},
   "outputs": [
    {
     "data": {
      "text/plain": [
       "12.581630382942635"
      ]
     },
     "execution_count": 11,
     "metadata": {},
     "output_type": "execute_result"
    }
   ],
   "source": [
    "c=alg1.intercept_\n",
    "c"
   ]
  },
  {
   "cell_type": "code",
   "execution_count": 13,
   "id": "78362340",
   "metadata": {},
   "outputs": [
    {
     "data": {
      "image/png": "[encoded data removed]",
      "text/plain": [
       "<Figure size 432x288 with 1 Axes>"
      ]
     },
     "metadata": {
      "needs_background": "light"
     },
     "output_type": "display_data"
    }
   ],
   "source": [
    "import matplotlib.pyplot as plt\n",
    "X=np.arange(30,70,0.1)\n",
    "Y=m*X+c\n",
    "plt.plot(X,Y,color='r')\n",
    "x_train=x_train.reshape(70)\n",
    "plt.scatter(x_train,y_train)\n",
    "plt.show()"
   ]
  },
  {
   "cell_type": "code",
   "execution_count": 14,
   "id": "24bf6e01",
   "metadata": {},
   "outputs": [
    {
     "data": {
      "image/png": "[encoded data removed]",
      "text/plain": [
       "<Figure size 432x288 with 1 Axes>"
      ]
     },
     "metadata": {
      "needs_background": "light"
     },
     "output_type": "display_data"
    }
   ],
   "source": [
    "import matplotlib.pyplot as plt\n",
    "X=np.arange(30,70,0.1)\n",
    "Y=m*X+c\n",
    "plt.plot(X,Y,color='r')\n",
    "x_train=x_train.reshape(70)\n",
    "plt.scatter(y_test,y_pred)\n",
    "plt.show()"
   ]
  },
  {
   "cell_type": "code",
   "execution_count": 15,
   "id": "6b4c530f",
   "metadata": {},
   "outputs": [
    {
     "data": {
      "text/plain": [
       "0.5624247632026611"
      ]
     },
     "execution_count": 15,
     "metadata": {},
     "output_type": "execute_result"
    }
   ],
   "source": [
    "alg1.score(x_train.reshape(-1,1),y_train)"
   ]
  },
  {
   "cell_type": "code",
   "execution_count": 16,
   "id": "955e31e6",
   "metadata": {},
   "outputs": [
    {
     "data": {
      "text/plain": [
       "(30,)"
      ]
     },
     "execution_count": 16,
     "metadata": {},
     "output_type": "execute_result"
    }
   ],
   "source": [
    "y_test.shape"
   ]
  },
  {
   "cell_type": "code",
   "execution_count": 17,
   "id": "316bc3dc",
   "metadata": {},
   "outputs": [
    {
     "data": {
      "text/plain": [
       "(30,)"
      ]
     },
     "execution_count": 17,
     "metadata": {},
     "output_type": "execute_result"
    }
   ],
   "source": [
    "y_pred.shape"
   ]
  },
  {
   "cell_type": "code",
   "execution_count": 18,
   "id": "cc5e583f",
   "metadata": {},
   "outputs": [
    {
     "data": {
      "text/plain": [
       "0.6238548254113537"
      ]
     },
     "execution_count": 18,
     "metadata": {},
     "output_type": "execute_result"
    }
   ],
   "source": [
    "alg1.score(x_test,y_test)"
   ]
  },
  {
   "cell_type": "code",
   "execution_count": null,
   "id": "d44280a7",
   "metadata": {},
   "outputs": [],
   "source": []
  },
  {
   "cell_type": "code",
   "execution_count": null,
   "id": "e4fee5d6",
   "metadata": {},
   "outputs": [],
   "source": []
  },
  {
   "cell_type": "code",
   "execution_count": null,
   "id": "e0212667",
   "metadata": {},
   "outputs": [],
   "source": []
  },
  {
   "cell_type": "code",
   "execution_count": null,
   "id": "5a868296",
   "metadata": {},
   "outputs": [],
   "source": []
  },
  {
   "cell_type": "markdown",
   "id": "422ef9d3",
   "metadata": {},
   "source": [
    "## Using handwritten functions"
   ]
  },
  {
   "cell_type": "code",
   "execution_count": 19,
   "id": "6e91926a",
   "metadata": {},
   "outputs": [],
   "source": [
    "import numpy as np"
   ]
  },
  {
   "cell_type": "code",
   "execution_count": 20,
   "id": "bd3df671",
   "metadata": {},
   "outputs": [
    {
     "data": {
      "text/plain": [
       "(array([32.50234527, 53.42680403, 61.53035803, 47.47563963, 59.81320787,\n",
       "        55.14218841, 52.21179669, 39.29956669, 48.10504169, 52.55001444,\n",
       "        45.41973014, 54.35163488, 44.1640495 , 58.16847072, 56.72720806,\n",
       "        48.95588857, 44.68719623, 60.29732685, 45.61864377, 38.81681754,\n",
       "        66.18981661, 65.41605175, 47.48120861, 41.57564262, 51.84518691,\n",
       "        59.37082201, 57.31000344, 63.61556125, 46.73761941, 50.55676015,\n",
       "        52.22399609, 35.56783005, 42.43647694, 58.16454011, 57.50444762,\n",
       "        45.44053073, 61.89622268, 33.09383174, 36.43600951, 37.67565486,\n",
       "        44.55560838, 43.31828263, 50.07314563, 43.87061265, 62.99748075,\n",
       "        32.66904376, 40.16689901, 53.57507753, 33.86421497, 64.70713867,\n",
       "        38.11982403, 44.50253806, 40.59953838, 41.72067636, 51.08863468,\n",
       "        55.0780959 , 41.37772653, 62.49469743, 49.20388754, 41.10268519,\n",
       "        41.18201611, 50.18638949, 52.37844622, 50.13548549, 33.64470601,\n",
       "        39.55790122, 56.13038882, 57.36205213, 60.26921439, 35.67809389,\n",
       "        31.588117  , 53.66093226, 46.68222865, 43.10782022, 70.34607562,\n",
       "        44.49285588, 57.5045333 , 36.93007661, 55.80573336, 38.95476907,\n",
       "        56.9012147 , 56.86890066, 34.3331247 , 59.04974121, 57.78822399,\n",
       "        54.28232871, 51.0887199 , 50.28283635, 44.21174175, 38.00548801,\n",
       "        32.94047994, 53.69163957, 68.76573427, 46.2309665 , 68.31936082,\n",
       "        50.03017434, 49.23976534, 50.03957594, 48.14985889, 25.12848465]),\n",
       " array([ 31.70700585,  68.77759598,  62.5623823 ,  71.54663223,\n",
       "         87.23092513,  78.21151827,  79.64197305,  59.17148932,\n",
       "         75.3312423 ,  71.30087989,  55.16567715,  82.47884676,\n",
       "         62.00892325,  75.39287043,  81.43619216,  60.72360244,\n",
       "         82.89250373,  97.37989686,  48.84715332,  56.87721319,\n",
       "         83.87856466, 118.5912173 ,  57.25181946,  51.39174408,\n",
       "         75.38065167,  74.76556403,  95.45505292,  95.22936602,\n",
       "         79.05240617,  83.43207142,  63.35879032,  41.4128853 ,\n",
       "         76.61734128,  96.76956643,  74.08413012,  66.58814441,\n",
       "         77.76848242,  50.71958891,  62.12457082,  60.81024665,\n",
       "         52.68298337,  58.56982472,  82.90598149,  61.4247098 ,\n",
       "        115.2441528 ,  45.57058882,  54.0840548 ,  87.99445276,\n",
       "         52.72549438,  93.57611869,  80.16627545,  65.10171157,\n",
       "         65.56230126,  65.28088692,  73.43464155,  71.13972786,\n",
       "         79.10282968,  86.52053844,  84.74269781,  59.35885025,\n",
       "         61.68403752,  69.84760416,  86.09829121,  59.10883927,\n",
       "         69.89968164,  44.86249071,  85.49806778,  95.53668685,\n",
       "         70.25193442,  52.72173496,  50.39267014,  63.64239878,\n",
       "         72.24725107,  57.81251298, 104.25710159,  86.64202032,\n",
       "         91.486778  ,  55.23166089,  79.55043668,  44.84712424,\n",
       "         80.20752314,  83.14274979,  55.72348926,  77.63418251,\n",
       "         99.05141484,  79.12064627,  69.58889785,  69.51050331,\n",
       "         73.68756432,  61.36690454,  67.17065577,  85.66820315,\n",
       "        114.85387123,  90.12357207,  97.91982104,  81.53699078,\n",
       "         72.11183247,  85.23200734,  66.22495789,  53.45439421]))"
      ]
     },
     "execution_count": 20,
     "metadata": {},
     "output_type": "execute_result"
    }
   ],
   "source": [
    "data=np.loadtxt('https://files.codingninjas.in/data-6984.csv',delimiter=',')\n",
    "x=data[:,0]\n",
    "y=data[:,1]\n",
    "x,y"
   ]
  },
  {
   "cell_type": "code",
   "execution_count": 21,
   "id": "4f73aba5",
   "metadata": {},
   "outputs": [
    {
     "name": "stdout",
     "output_type": "stream",
     "text": [
      "(73,)\n",
      "(27,)\n",
      "(73,)\n",
      "(27,)\n"
     ]
    }
   ],
   "source": [
    "from sklearn import model_selection\n",
    "x_train,x_test,y_train,y_test=model_selection.train_test_split(x,y,test_size=.27,random_state=0)\n",
    "print(x_train.shape)\n",
    "print(x_test.shape)\n",
    "print(y_train.shape)\n",
    "print(y_test.shape)"
   ]
  },
  {
   "cell_type": "code",
   "execution_count": 26,
   "id": "ef2ba006",
   "metadata": {},
   "outputs": [],
   "source": [
    "def fit(x_train,y_train):\n",
    "    num=(x_train*y_train).mean()-x_train.mean()*y_train.mean()\n",
    "    dnum=(x_train**2).mean()-x_train.mean()**2\n",
    "    m=num/dnum\n",
    "    c=y_train.mean()-m*x_train.mean()\n",
    "    return m,c"
   ]
  },
  {
   "cell_type": "code",
   "execution_count": 30,
   "id": "d9ad95a6",
   "metadata": {},
   "outputs": [],
   "source": [
    "def predict(x,m,c):\n",
    "    return m*x+c\n",
    "def score(y_truth,y_pred):\n",
    "    u=((y_truth-y_pred)**2).sum()\n",
    "    v=((y_truth-y_truth.mean())**2).sum()\n",
    "    return 1-u/v"
   ]
  },
  {
   "cell_type": "code",
   "execution_count": 33,
   "id": "a99d8ba7",
   "metadata": {},
   "outputs": [],
   "source": [
    "def cost(x,y,m,c):\n",
    "    return ((y-m*x+c)**2).mean()"
   ]
  },
  {
   "cell_type": "code",
   "execution_count": 37,
   "id": "391b5cb6",
   "metadata": {},
   "outputs": [
    {
     "name": "stdout",
     "output_type": "stream",
     "text": [
      "test_ score 0.43315143197492234\n",
      "train score 0.6446200750283668\n",
      "1.3372971376602987 7.22285534081621\n",
      "cost: 312.6882424329631\n",
      "cost: 1381.3390355828308\n"
     ]
    }
   ],
   "source": [
    "m,c=fit(x_train,y_train)\n",
    "#test_prediction data\n",
    "\n",
    "y_test_pred=predict(x_test,m,c)\n",
    "print('test_ score',score(y_test,y_test_pred))\n",
    "#train data\n",
    "y_train_pred=predict(x_train,m,c)\n",
    "print('train score',score(y_train,y_train_pred))\n",
    "print(m,c)\n",
    "print('cost:',cost(x_train,y_train,m,c))\n",
    "print('cost:',cost(x_train,y_train,m+1,c))#checking the cost is minimum we can found or not just adding the +1  into m"
   ]
  },
  {
   "cell_type": "code",
   "execution_count": null,
   "id": "f72592c6",
   "metadata": {},
   "outputs": [],
   "source": []
  },
  {
   "cell_type": "markdown",
   "id": "f836a46e",
   "metadata": {},
   "source": [
    "## checking the value of handwritten function and declared function "
   ]
  },
  {
   "cell_type": "code",
   "execution_count": 38,
   "id": "0cda4f62",
   "metadata": {},
   "outputs": [],
   "source": [
    "from sklearn.linear_model import LinearRegression"
   ]
  },
  {
   "cell_type": "code",
   "execution_count": 39,
   "id": "ec438cea",
   "metadata": {},
   "outputs": [],
   "source": [
    "alg1=LinearRegression()"
   ]
  },
  {
   "cell_type": "code",
   "execution_count": 41,
   "id": "7c00ff4f",
   "metadata": {},
   "outputs": [],
   "source": [
    "x_train=x_train.reshape(73,1)"
   ]
  },
  {
   "cell_type": "code",
   "execution_count": 42,
   "id": "cd7be10e",
   "metadata": {},
   "outputs": [
    {
     "data": {
      "text/plain": [
       "LinearRegression()"
      ]
     },
     "execution_count": 42,
     "metadata": {},
     "output_type": "execute_result"
    }
   ],
   "source": [
    "alg1.fit(x_train,y_train)"
   ]
  },
  {
   "cell_type": "code",
   "execution_count": 44,
   "id": "b3705604",
   "metadata": {},
   "outputs": [],
   "source": [
    "y_pred=alg1.predict(x_test.reshape(27,1))"
   ]
  },
  {
   "cell_type": "code",
   "execution_count": 45,
   "id": "a6ebace3",
   "metadata": {},
   "outputs": [
    {
     "data": {
      "text/plain": [
       "1.337297137660296"
      ]
     },
     "execution_count": 45,
     "metadata": {},
     "output_type": "execute_result"
    }
   ],
   "source": [
    "m=alg1.coef_[0]\n",
    "m"
   ]
  },
  {
   "cell_type": "code",
   "execution_count": 46,
   "id": "c95cc0a8",
   "metadata": {},
   "outputs": [
    {
     "data": {
      "text/plain": [
       "7.222855340816338"
      ]
     },
     "execution_count": 46,
     "metadata": {},
     "output_type": "execute_result"
    }
   ],
   "source": [
    "c=alg1.intercept_\n",
    "c"
   ]
  },
  {
   "cell_type": "code",
   "execution_count": 47,
   "id": "3a24e787",
   "metadata": {},
   "outputs": [
    {
     "data": {
      "text/plain": [
       "0.6446200750283668"
      ]
     },
     "execution_count": 47,
     "metadata": {},
     "output_type": "execute_result"
    }
   ],
   "source": [
    "alg1.score(x_train.reshape(-1,1),y_train)"
   ]
  },
  {
   "cell_type": "code",
   "execution_count": 49,
   "id": "bff11aca",
   "metadata": {},
   "outputs": [
    {
     "data": {
      "text/plain": [
       "0.43315143197492256"
      ]
     },
     "execution_count": 49,
     "metadata": {},
     "output_type": "execute_result"
    }
   ],
   "source": [
    "alg1.score(x_test.reshape(-1,1),y_test)"
   ]
  },
  {
   "cell_type": "code",
   "execution_count": null,
   "id": "5098dbfb",
   "metadata": {},
   "outputs": [],
   "source": []
  },
  {
   "cell_type": "code",
   "execution_count": null,
   "id": "5932368d",
   "metadata": {},
   "outputs": [],
   "source": []
  },
  {
   "cell_type": "code",
   "execution_count": null,
   "id": "54ad0cc4",
   "metadata": {},
   "outputs": [],
   "source": []
  },
  {
   "cell_type": "code",
   "execution_count": null,
   "id": "97cf2a43",
   "metadata": {},
   "outputs": [],
   "source": []
  },
  {
   "cell_type": "markdown",
   "id": "50b96e58",
   "metadata": {},
   "source": [
    "# Gradiant Descent code "
   ]
  },
  {
   "cell_type": "code",
   "execution_count": 18,
   "id": "79f64418",
   "metadata": {},
   "outputs": [],
   "source": [
    "import numpy as np"
   ]
  },
  {
   "cell_type": "code",
   "execution_count": 5,
   "id": "4a423588",
   "metadata": {},
   "outputs": [
    {
     "data": {
      "text/plain": [
       "(70, 2)"
      ]
     },
     "execution_count": 5,
     "metadata": {},
     "output_type": "execute_result"
    }
   ],
   "source": [
    "import numpy as np\n",
    "data = np.loadtxt(\"https://files.codingninjas.in/data-6984.csv\", delimiter=\",\")\n",
    "training_data = data[:70,:]\n",
    "training_data.shape"
   ]
  },
  {
   "cell_type": "code",
   "execution_count": 14,
   "id": "088dba0f",
   "metadata": {},
   "outputs": [],
   "source": [
    "def step_gradient(points, learning_rate, m , c):\n",
    "    m_slope = 0\n",
    "    c_slope = 0\n",
    "    M = len(points)\n",
    "    for i in range(M):\n",
    "        x = points[i, 0]\n",
    "        y = points[i, 1]\n",
    "        m_slope += (-2/M)* (y - m * x - c)*x\n",
    "        c_slope += (-2/M)* (y - m * x - c)\n",
    "    new_m = m - learning_rate * m_slope\n",
    "    new_c = c - learning_rate * c_slope\n",
    "    return new_m, new_c"
   ]
  },
  {
   "cell_type": "code",
   "execution_count": 15,
   "id": "df7329ee",
   "metadata": {},
   "outputs": [],
   "source": [
    "# The Gradient Descent Function\n",
    "def gd(points, learning_rate, num_iterations):\n",
    "    m = 0       # Intial random value taken as 0\n",
    "    c = 0       # Intial random value taken as 0\n",
    "    for i in range(num_iterations):\n",
    "        m, c = step_gradient(points, learning_rate, m , c)\n",
    "        print(i, \" Cost: \", cost(points, m, c))\n",
    "    return m, c"
   ]
  },
  {
   "cell_type": "code",
   "execution_count": 16,
   "id": "366494a3",
   "metadata": {},
   "outputs": [],
   "source": [
    "def cost(points, m, c):\n",
    "    total_cost = 0\n",
    "    M = len(points)\n",
    "    for i in range(M):\n",
    "        x = points[i, 0]\n",
    "        y = points[i, 1]\n",
    "        total_cost += (1/M)*((y - m*x - c)**2)\n",
    "    return total_cost"
   ]
  },
  {
   "cell_type": "code",
   "execution_count": 17,
   "id": "b1a89a39",
   "metadata": {},
   "outputs": [],
   "source": [
    "def run():\n",
    "    learning_rate = 0.0001\n",
    "    num_iterations = 100\n",
    "    m, c = gd(training_data, learning_rate, num_iterations)\n",
    "    print(\"Final m :\", m)\n",
    "    print(\"Final c :\", c)\n",
    "    return m,c"
   ]
  },
  {
   "cell_type": "code",
   "execution_count": 18,
   "id": "ea68f186",
   "metadata": {},
   "outputs": [
    {
     "name": "stdout",
     "output_type": "stream",
     "text": [
      "0  Cost:  1461.4044104341087\n",
      "1  Cost:  460.8670268567474\n",
      "2  Cost:  205.4870778024464\n",
      "3  Cost:  140.30318108579826\n",
      "4  Cost:  123.66545280139864\n",
      "5  Cost:  119.41878332450108\n",
      "6  Cost:  118.33484209854512\n",
      "7  Cost:  118.05816441204072\n",
      "8  Cost:  117.98753491264765\n",
      "9  Cost:  117.96949772470519\n",
      "10  Cost:  117.96488434447647\n",
      "11  Cost:  117.96369729432573\n",
      "12  Cost:  117.96338479030575\n",
      "13  Cost:  117.96329550799736\n",
      "14  Cost:  117.9632632015475\n",
      "15  Cost:  117.9632454379033\n",
      "16  Cost:  117.96323138633423\n",
      "17  Cost:  117.96321828237488\n",
      "18  Cost:  117.96320542041524\n",
      "19  Cost:  117.96319262035338\n",
      "20  Cost:  117.9631798362198\n",
      "21  Cost:  117.96316705628094\n",
      "22  Cost:  117.96315427754192\n",
      "23  Cost:  117.96314149923846\n",
      "24  Cost:  117.96312872117527\n",
      "25  Cost:  117.96311594330255\n",
      "26  Cost:  117.9631031656078\n",
      "27  Cost:  117.9630903880875\n",
      "28  Cost:  117.96307761074107\n",
      "29  Cost:  117.96306483356811\n",
      "30  Cost:  117.96305205656859\n",
      "31  Cost:  117.96303927974257\n",
      "32  Cost:  117.96302650309\n",
      "33  Cost:  117.96301372661085\n",
      "34  Cost:  117.96300095030523\n",
      "35  Cost:  117.96298817417302\n",
      "36  Cost:  117.96297539821425\n",
      "37  Cost:  117.96296262242893\n",
      "38  Cost:  117.96294984681701\n",
      "39  Cost:  117.96293707137862\n",
      "40  Cost:  117.96292429611363\n",
      "41  Cost:  117.962911521022\n",
      "42  Cost:  117.96289874610383\n",
      "43  Cost:  117.96288597135916\n",
      "44  Cost:  117.96287319678783\n",
      "45  Cost:  117.96286042238998\n",
      "46  Cost:  117.96284764816549\n",
      "47  Cost:  117.9628348741145\n",
      "48  Cost:  117.96282210023688\n",
      "49  Cost:  117.9628093265326\n",
      "50  Cost:  117.96279655300184\n",
      "51  Cost:  117.96278377964448\n",
      "52  Cost:  117.96277100646049\n",
      "53  Cost:  117.96275823344999\n",
      "54  Cost:  117.96274546061275\n",
      "55  Cost:  117.96273268794901\n",
      "56  Cost:  117.96271991545866\n",
      "57  Cost:  117.96270714314169\n",
      "58  Cost:  117.96269437099812\n",
      "59  Cost:  117.9626815990279\n",
      "60  Cost:  117.96266882723108\n",
      "61  Cost:  117.96265605560774\n",
      "62  Cost:  117.9626432841577\n",
      "63  Cost:  117.96263051288103\n",
      "64  Cost:  117.9626177417778\n",
      "65  Cost:  117.9626049708479\n",
      "66  Cost:  117.96259220009142\n",
      "67  Cost:  117.96257942950821\n",
      "68  Cost:  117.96256665909843\n",
      "69  Cost:  117.96255388886206\n",
      "70  Cost:  117.96254111879902\n",
      "71  Cost:  117.96252834890933\n",
      "72  Cost:  117.962515579193\n",
      "73  Cost:  117.96250280965003\n",
      "74  Cost:  117.96249004028041\n",
      "75  Cost:  117.96247727108418\n",
      "76  Cost:  117.96246450206127\n",
      "77  Cost:  117.96245173321168\n",
      "78  Cost:  117.96243896453551\n",
      "79  Cost:  117.9624261960326\n",
      "80  Cost:  117.96241342770308\n",
      "81  Cost:  117.96240065954687\n",
      "82  Cost:  117.96238789156405\n",
      "83  Cost:  117.96237512375453\n",
      "84  Cost:  117.9623623561184\n",
      "85  Cost:  117.9623495886555\n",
      "86  Cost:  117.96233682136597\n",
      "87  Cost:  117.96232405424978\n",
      "88  Cost:  117.96231128730685\n",
      "89  Cost:  117.96229852053732\n",
      "90  Cost:  117.96228575394112\n",
      "91  Cost:  117.96227298751815\n",
      "92  Cost:  117.96226022126854\n",
      "93  Cost:  117.96224745519224\n",
      "94  Cost:  117.96223468928922\n",
      "95  Cost:  117.96222192355955\n",
      "96  Cost:  117.96220915800318\n",
      "97  Cost:  117.96219639262009\n",
      "98  Cost:  117.96218362741031\n",
      "99  Cost:  117.96217086237382\n",
      "Final m : 1.458255777804894\n",
      "Final c : 0.032397159787702676\n"
     ]
    },
    {
     "data": {
      "text/plain": [
       "(1.458255777804894, 0.032397159787702676)"
      ]
     },
     "execution_count": 18,
     "metadata": {},
     "output_type": "execute_result"
    }
   ],
   "source": [
    "run()"
   ]
  },
  {
   "cell_type": "code",
   "execution_count": null,
   "id": "746bb15d",
   "metadata": {},
   "outputs": [],
   "source": []
  },
  {
   "cell_type": "code",
   "execution_count": 6,
   "id": "439e7d39",
   "metadata": {},
   "outputs": [],
   "source": [
    "import numpy as np"
   ]
  },
  {
   "cell_type": "code",
   "execution_count": 7,
   "id": "01a54836",
   "metadata": {},
   "outputs": [],
   "source": [
    "def step_gradiant(points,learning_rate,m ,c):\n",
    "    c_slope=0\n",
    "    m_slope=0\n",
    "    N=len(points)\n",
    "    for i in range(N):\n",
    "        x=points[i,0]\n",
    "        y=points[i,1]\n",
    "        m_slope += (-2/N) * (y - m * x -c)*x\n",
    "        c_slope +=(-2/N) * (y- m* x -c)\n",
    "    new_m=m-learning_rate*m_slope\n",
    "    new_c=c-learning_rate*c_slope\n",
    "    return new_m ,new_c"
   ]
  },
  {
   "cell_type": "code",
   "execution_count": 8,
   "id": "9e77b232",
   "metadata": {},
   "outputs": [],
   "source": [
    "def cost(points, m, c):\n",
    "    total_cost = 0\n",
    "    N = len(points)\n",
    "    for i in range(N):\n",
    "        x = points[i, 0]\n",
    "        y = points[i, 1]\n",
    "        total_cost += (1/N)*((y - m*x - c)**2)\n",
    "    return total_cost"
   ]
  },
  {
   "cell_type": "code",
   "execution_count": 9,
   "id": "43544a6e",
   "metadata": {},
   "outputs": [],
   "source": [
    "def gd(points,learning_rate,num_iteration):\n",
    "    m=0\n",
    "    c=0\n",
    "    for i in range(num_iteration):\n",
    "        m,c=step_gradiant(points,learning_rate, m , c)\n",
    "        print('cost',cost(points,m,c))\n",
    "    return m,c"
   ]
  },
  {
   "cell_type": "code",
   "execution_count": 10,
   "id": "5eef90c9",
   "metadata": {},
   "outputs": [],
   "source": [
    "def run():\n",
    "    data=np.loadtxt('https://files.codingninjas.in/data-6984.csv',delimiter=',')\n",
    "    learning_rate=0.0001\n",
    "    num_iteration=100\n",
    "    m,c=gd(data,learning_rate,num_iteration)\n",
    "    print(m,c)"
   ]
  },
  {
   "cell_type": "code",
   "execution_count": 11,
   "id": "1b386c90",
   "metadata": {},
   "outputs": [
    {
     "name": "stdout",
     "output_type": "stream",
     "text": [
      "cost 1484.5865574086486\n",
      "cost 457.8542575737672\n",
      "cost 199.5099857255389\n",
      "cost 134.50591058200533\n",
      "cost 118.1496934223995\n",
      "cost 114.0341490603815\n",
      "cost 112.99857731713657\n",
      "cost 112.73798187568467\n",
      "cost 112.6723843590911\n",
      "cost 112.65585181499745\n",
      "cost 112.65166489759581\n",
      "cost 112.6505843615011\n",
      "cost 112.65028544701502\n",
      "cost 112.65018320293967\n",
      "cost 112.650130445072\n",
      "cost 112.65009013922885\n",
      "cost 112.6500529669463\n",
      "cost 112.65001658353178\n",
      "cost 112.64998039901865\n",
      "cost 112.64994426496071\n",
      "cost 112.64990814400622\n",
      "cost 112.64987202675677\n",
      "cost 112.64983591084761\n",
      "cost 112.64979979568368\n",
      "cost 112.64976368111523\n",
      "cost 112.64972756710469\n",
      "cost 112.64969145364236\n",
      "cost 112.64965534072611\n",
      "cost 112.64961922835512\n",
      "cost 112.64958311652944\n",
      "cost 112.64954700524868\n",
      "cost 112.64951089451318\n",
      "cost 112.64947478432279\n",
      "cost 112.64943867467744\n",
      "cost 112.64940256557728\n",
      "cost 112.64936645702221\n",
      "cost 112.64933034901203\n",
      "cost 112.64929424154704\n",
      "cost 112.64925813462712\n",
      "cost 112.6492220282522\n",
      "cost 112.64918592242235\n",
      "cost 112.64914981713754\n",
      "cost 112.64911371239779\n",
      "cost 112.64907760820296\n",
      "cost 112.64904150455324\n",
      "cost 112.64900540144845\n",
      "cost 112.64896929888867\n",
      "cost 112.64893319687388\n",
      "cost 112.6488970954041\n",
      "cost 112.64886099447922\n",
      "cost 112.64882489409929\n",
      "cost 112.64878879426433\n",
      "cost 112.64875269497436\n",
      "cost 112.64871659622933\n",
      "cost 112.64868049802914\n",
      "cost 112.648644400374\n",
      "cost 112.64860830326366\n",
      "cost 112.64857220669828\n",
      "cost 112.64853611067772\n",
      "cost 112.64850001520212\n",
      "cost 112.64846392027131\n",
      "cost 112.64842782588545\n",
      "cost 112.64839173204442\n",
      "cost 112.6483556387483\n",
      "cost 112.64831954599697\n",
      "cost 112.64828345379043\n",
      "cost 112.64824736212877\n",
      "cost 112.64821127101193\n",
      "cost 112.64817518043986\n",
      "cost 112.64813909041264\n",
      "cost 112.64810300093015\n",
      "cost 112.64806691199259\n",
      "cost 112.64803082359971\n",
      "cost 112.64799473575155\n",
      "cost 112.64795864844827\n",
      "cost 112.64792256168963\n",
      "cost 112.64788647547579\n",
      "cost 112.64785038980668\n",
      "cost 112.64781430468226\n",
      "cost 112.64777822010265\n",
      "cost 112.6477421360677\n",
      "cost 112.64770605257743\n",
      "cost 112.64766996963193\n",
      "cost 112.64763388723107\n",
      "cost 112.64759780537483\n",
      "cost 112.64756172406335\n",
      "cost 112.6475256432965\n",
      "cost 112.64748956307432\n",
      "cost 112.64745348339677\n",
      "cost 112.64741740426388\n",
      "cost 112.6473813256756\n",
      "cost 112.64734524763193\n",
      "cost 112.64730917013293\n",
      "cost 112.6472730931785\n",
      "cost 112.64723701676861\n",
      "cost 112.64720094090339\n",
      "cost 112.64716486558265\n",
      "cost 112.64712879080662\n",
      "cost 112.64709271657513\n",
      "cost 112.64705664288809\n",
      "1.4788027175308358 0.035074970592341756\n"
     ]
    }
   ],
   "source": [
    "run()"
   ]
  },
  {
   "cell_type": "code",
   "execution_count": null,
   "id": "87ffae83",
   "metadata": {},
   "outputs": [],
   "source": []
  },
  {
   "cell_type": "markdown",
   "id": "152de759",
   "metadata": {},
   "source": [
    "## feature scaling"
   ]
  },
  {
   "cell_type": "code",
   "execution_count": 1,
   "id": "2e249638",
   "metadata": {},
   "outputs": [],
   "source": [
    "import numpy as np\n",
    "from sklearn import preprocessing"
   ]
  },
  {
   "cell_type": "code",
   "execution_count": 40,
   "id": "ebf14382",
   "metadata": {},
   "outputs": [],
   "source": [
    "X=np.random.randint(0,2,9).reshape(3,3)"
   ]
  },
  {
   "cell_type": "code",
   "execution_count": 41,
   "id": "5668d117",
   "metadata": {},
   "outputs": [
    {
     "data": {
      "text/plain": [
       "array([[0, 1, 0],\n",
       "       [1, 0, 0],\n",
       "       [1, 1, 1]])"
      ]
     },
     "execution_count": 41,
     "metadata": {},
     "output_type": "execute_result"
    }
   ],
   "source": [
    "X"
   ]
  },
  {
   "cell_type": "code",
   "execution_count": 42,
   "id": "d9bd984b",
   "metadata": {},
   "outputs": [],
   "source": [
    "X_scaled=preprocessing.scale(X)"
   ]
  },
  {
   "cell_type": "code",
   "execution_count": 44,
   "id": "2312f540",
   "metadata": {},
   "outputs": [
    {
     "data": {
      "text/plain": [
       "array([-0.47140452, -0.47140452,  0.94280904])"
      ]
     },
     "execution_count": 44,
     "metadata": {},
     "output_type": "execute_result"
    }
   ],
   "source": [
    "X_scaled.mean(axis=1)"
   ]
  },
  {
   "cell_type": "code",
   "execution_count": 45,
   "id": "f7c41a17",
   "metadata": {},
   "outputs": [
    {
     "data": {
      "text/plain": [
       "array([[0, 1, 0],\n",
       "       [1, 0, 0],\n",
       "       [1, 1, 1]])"
      ]
     },
     "execution_count": 45,
     "metadata": {},
     "output_type": "execute_result"
    }
   ],
   "source": [
    "X"
   ]
  },
  {
   "cell_type": "code",
   "execution_count": 46,
   "id": "ac7e656c",
   "metadata": {},
   "outputs": [],
   "source": [
    "X_scaler=preprocessing.StandardScaler()"
   ]
  },
  {
   "cell_type": "code",
   "execution_count": 47,
   "id": "5a15b48f",
   "metadata": {},
   "outputs": [
    {
     "data": {
      "text/plain": [
       "StandardScaler()"
      ]
     },
     "execution_count": 47,
     "metadata": {},
     "output_type": "execute_result"
    }
   ],
   "source": [
    "X_scaler.fit(X)"
   ]
  },
  {
   "cell_type": "code",
   "execution_count": 48,
   "id": "4144fe30",
   "metadata": {},
   "outputs": [
    {
     "data": {
      "text/plain": [
       "array([[-1.41421356,  0.70710678, -0.70710678],\n",
       "       [ 0.70710678, -1.41421356, -0.70710678],\n",
       "       [ 0.70710678,  0.70710678,  1.41421356]])"
      ]
     },
     "execution_count": 48,
     "metadata": {},
     "output_type": "execute_result"
    }
   ],
   "source": [
    "X_scaler.transform(X)"
   ]
  },
  {
   "cell_type": "code",
   "execution_count": 49,
   "id": "e2fc8a8a",
   "metadata": {},
   "outputs": [
    {
     "data": {
      "text/plain": [
       "array([[-1.41421356,  0.70710678, -0.70710678]])"
      ]
     },
     "execution_count": 49,
     "metadata": {},
     "output_type": "execute_result"
    }
   ],
   "source": [
    "#adding new data to the scaler\n",
    "X_test=[[0,1,0]]\n",
    "X_scaler.transform(X_test)"
   ]
  },
  {
   "cell_type": "code",
   "execution_count": null,
   "id": "33af4bb7",
   "metadata": {},
   "outputs": [],
   "source": []
  },
  {
   "cell_type": "code",
   "execution_count": null,
   "id": "2baffb7a",
   "metadata": {},
   "outputs": [],
   "source": []
  },
  {
   "cell_type": "code",
   "execution_count": null,
   "id": "39f8e3fd",
   "metadata": {},
   "outputs": [],
   "source": []
  },
  {
   "cell_type": "markdown",
   "id": "7855902a",
   "metadata": {},
   "source": [
    "## 2nd practice Linear Regression"
   ]
  },
  {
   "cell_type": "code",
   "execution_count": 14,
   "id": "1cf96565",
   "metadata": {},
   "outputs": [],
   "source": [
    "import numpy as np\n",
    "from sklearn import model_selection\n",
    "from sklearn.linear_model import LinearRegression\n",
    "import matplotlib.pyplot as plt"
   ]
  },
  {
   "cell_type": "code",
   "execution_count": 15,
   "id": "e3e7f41c",
   "metadata": {},
   "outputs": [
    {
     "data": {
      "image/png": "[encoded data removed]",
      "text/plain": [
       "<Figure size 432x288 with 1 Axes>"
      ]
     },
     "metadata": {
      "needs_background": "light"
     },
     "output_type": "display_data"
    }
   ],
   "source": [
    "data=np.loadtxt('https://files.codingninjas.in/data-6984.csv',delimiter=',')\n",
    "x=data[:,0].reshape(-1,1)\n",
    "y=data[:,1].reshape(-1,1)\n",
    "x_train,x_test,y_train,y_test=model_selection.train_test_split(x,y,random_state=0,test_size=0.3)\n",
    "alg1=LinearRegression()\n",
    "alg1.fit(x_train,y_train)\n",
    "y_pred=alg1.predict(x_test)\n",
    "m=alg1.coef_[0]\n",
    "c=alg1.intercept_\n",
    "\n",
    "X=np.arange(30,70,0.1)\n",
    "Y=m*X+c\n",
    "plt.plot(X,Y,color='r')\n",
    "x_train=x_train.reshape(70)\n",
    "plt.scatter(x_train,y_train)\n",
    "plt.show()"
   ]
  },
  {
   "cell_type": "markdown",
   "id": "8bf37168",
   "metadata": {},
   "source": [
    "# using handwritten function"
   ]
  },
  {
   "cell_type": "code",
   "execution_count": 3,
   "id": "517fbcca",
   "metadata": {},
   "outputs": [
    {
     "name": "stdout",
     "output_type": "stream",
     "text": [
      "test_ score 0.4769365552229231\n",
      "train score 0.638860686598496\n",
      "1.3780014623662094 4.902019316324655\n",
      "cost: 2392.9158490363366\n",
      "cost: 3168.882503145479\n"
     ]
    }
   ],
   "source": [
    "import numpy as np\n",
    "from sklearn import model_selection\n",
    "data=np.loadtxt('https://files.codingninjas.in/data-6984.csv',delimiter=',')\n",
    "x=data[:,0]\n",
    "y=data[:,1]\n",
    "x_train,x_test,y_train,y_test=model_selection.train_test_split(x,y,random_state=0,test_size=0.3)\n",
    "\n",
    "# calling out fit function\n",
    "def fit(x_train,y_train):\n",
    "    num=(x_train*y_train).mean()-x_train.mean()*y_train.mean()\n",
    "    dnum=(x_train**2).mean()-x_train.mean()**2\n",
    "    m=num/dnum\n",
    "    c=y_train.mean()-m*x_train.mean()\n",
    "    return m,c\n",
    "#calling out prediction function\n",
    "def predict(x,m,c):\n",
    "    return m*x+c\n",
    "\n",
    "# score function\n",
    "def score(y_truth,y_pred):\n",
    "    u=((y_truth-y_pred)**2).sum()\n",
    "    v=((y_truth-y_truth.mean())**2).sum()\n",
    "    return 1-u/v\n",
    "#cost function\n",
    "def cost(y,x,m,c):\n",
    "    return((y-m*x+c)**2).mean()\n",
    "\n",
    "m,c=fit(x_train,y_train)\n",
    "#test_prediction data\n",
    "\n",
    "y_test_pred=predict(x_test,m,c)\n",
    "print('test_ score',score(y_test,y_test_pred))\n",
    "#train data\n",
    "y_train_pred=predict(x_train,m,c)\n",
    "print('train score',score(y_train,y_train_pred))\n",
    "print(m,c)\n",
    "print('cost:',cost(x_train,y_train,m,c))\n",
    "print('cost:',cost(x_train,y_train,m+0.1,c))"
   ]
  },
  {
   "cell_type": "code",
   "execution_count": 14,
   "id": "7fc68d47",
   "metadata": {},
   "outputs": [
    {
     "name": "stdout",
     "output_type": "stream",
     "text": [
      "0 cost: 1484.5865574086486\n",
      "1 cost: 457.8542575737672\n",
      "2 cost: 199.5099857255389\n",
      "3 cost: 134.50591058200533\n",
      "4 cost: 118.1496934223995\n",
      "5 cost: 114.0341490603815\n",
      "6 cost: 112.99857731713657\n",
      "7 cost: 112.73798187568467\n",
      "8 cost: 112.6723843590911\n",
      "9 cost: 112.65585181499745\n",
      "10 cost: 112.65166489759581\n",
      "11 cost: 112.6505843615011\n",
      "12 cost: 112.65028544701502\n",
      "13 cost: 112.65018320293967\n",
      "14 cost: 112.650130445072\n",
      "15 cost: 112.65009013922885\n",
      "16 cost: 112.6500529669463\n",
      "17 cost: 112.65001658353178\n",
      "18 cost: 112.64998039901865\n",
      "19 cost: 112.64994426496071\n",
      "20 cost: 112.64990814400622\n",
      "21 cost: 112.64987202675677\n",
      "22 cost: 112.64983591084761\n",
      "23 cost: 112.64979979568368\n",
      "24 cost: 112.64976368111523\n",
      "25 cost: 112.64972756710469\n",
      "26 cost: 112.64969145364236\n",
      "27 cost: 112.64965534072611\n",
      "28 cost: 112.64961922835512\n",
      "29 cost: 112.64958311652944\n",
      "30 cost: 112.64954700524868\n",
      "31 cost: 112.64951089451318\n",
      "32 cost: 112.64947478432279\n",
      "33 cost: 112.64943867467744\n",
      "34 cost: 112.64940256557728\n",
      "35 cost: 112.64936645702221\n",
      "36 cost: 112.64933034901203\n",
      "37 cost: 112.64929424154704\n",
      "38 cost: 112.64925813462712\n",
      "39 cost: 112.6492220282522\n",
      "40 cost: 112.64918592242235\n",
      "41 cost: 112.64914981713754\n",
      "42 cost: 112.64911371239779\n",
      "43 cost: 112.64907760820296\n",
      "44 cost: 112.64904150455324\n",
      "45 cost: 112.64900540144845\n",
      "46 cost: 112.64896929888867\n",
      "47 cost: 112.64893319687388\n",
      "48 cost: 112.6488970954041\n",
      "49 cost: 112.64886099447922\n",
      "50 cost: 112.64882489409929\n",
      "51 cost: 112.64878879426433\n",
      "52 cost: 112.64875269497436\n",
      "53 cost: 112.64871659622933\n",
      "54 cost: 112.64868049802914\n",
      "55 cost: 112.648644400374\n",
      "56 cost: 112.64860830326366\n",
      "57 cost: 112.64857220669828\n",
      "58 cost: 112.64853611067772\n",
      "59 cost: 112.64850001520212\n",
      "60 cost: 112.64846392027131\n",
      "61 cost: 112.64842782588545\n",
      "62 cost: 112.64839173204442\n",
      "63 cost: 112.6483556387483\n",
      "64 cost: 112.64831954599697\n",
      "65 cost: 112.64828345379043\n",
      "66 cost: 112.64824736212877\n",
      "67 cost: 112.64821127101193\n",
      "68 cost: 112.64817518043986\n",
      "69 cost: 112.64813909041264\n",
      "70 cost: 112.64810300093015\n",
      "71 cost: 112.64806691199259\n",
      "72 cost: 112.64803082359971\n",
      "73 cost: 112.64799473575155\n",
      "74 cost: 112.64795864844827\n",
      "75 cost: 112.64792256168963\n",
      "76 cost: 112.64788647547579\n",
      "77 cost: 112.64785038980668\n",
      "78 cost: 112.64781430468226\n",
      "79 cost: 112.64777822010265\n",
      "80 cost: 112.6477421360677\n",
      "81 cost: 112.64770605257743\n",
      "82 cost: 112.64766996963193\n",
      "83 cost: 112.64763388723107\n",
      "84 cost: 112.64759780537483\n",
      "85 cost: 112.64756172406335\n",
      "86 cost: 112.6475256432965\n",
      "87 cost: 112.64748956307432\n",
      "88 cost: 112.64745348339677\n",
      "89 cost: 112.64741740426388\n",
      "90 cost: 112.6473813256756\n",
      "91 cost: 112.64734524763193\n",
      "92 cost: 112.64730917013293\n",
      "93 cost: 112.6472730931785\n",
      "94 cost: 112.64723701676861\n",
      "95 cost: 112.64720094090339\n",
      "96 cost: 112.64716486558265\n",
      "97 cost: 112.64712879080662\n",
      "98 cost: 112.64709271657513\n",
      "99 cost: 112.64705664288809\n",
      "final m: 1.4788027175308358\n",
      "final c 0.035074970592341756\n"
     ]
    }
   ],
   "source": [
    "import numpy as np\n",
    "\n",
    "def step_gradiant(points,learning_rate,m,c):\n",
    "    m_slope=0\n",
    "    c_slope=0\n",
    "    M=len(points)\n",
    "    for i in range(M):\n",
    "        x=points[i,0]\n",
    "        y=points[i,1]\n",
    "        m_slope +=(-2/M)*(y-m*x-c)*x\n",
    "        c_slope +=(-2/M)*(y-m*x-c)\n",
    "    new_m=m-learning_rate*m_slope\n",
    "    new_c=c-learning_rate*c_slope\n",
    "    return new_m,new_c\n",
    "\n",
    "def gd(points,learning_rate,number_iteration):\n",
    "    m=0\n",
    "    c=0\n",
    "    for i in range(number_iteration):\n",
    "        m,c=step_gradiant(points,learning_rate,m,c)\n",
    "        print(i,'cost:',cost(points,m,c))\n",
    "    return m,c\n",
    "\n",
    "def cost(points,m,c):\n",
    "    M=len(points)\n",
    "    total_cost=0\n",
    "    for i in range(M):\n",
    "        x=points[i,0]\n",
    "        y=points[i,1]\n",
    "        total_cost +=(1/M)*((y-m*x-c)**2).sum()\n",
    "    return total_cost\n",
    "\n",
    "def run():\n",
    "    \n",
    "    data=np.loadtxt('https://files.codingninjas.in/data-6984.csv',delimiter=',')\n",
    "    learning_rate=0.0001\n",
    "    number_iteration=100\n",
    "    m,c= gd(data,learning_rate,number_iteration)\n",
    "    print('final m:',m)\n",
    "    print ('final c',c)\n",
    "run()"
   ]
  },
  {
   "cell_type": "code",
   "execution_count": null,
   "id": "45f0a3e9",
   "metadata": {},
   "outputs": [],
   "source": []
  },
  {
   "cell_type": "code",
   "execution_count": null,
   "id": "f450ab68",
   "metadata": {},
   "outputs": [],
   "source": []
  },
  {
   "cell_type": "code",
   "execution_count": null,
   "id": "6bdc4262",
   "metadata": {},
   "outputs": [],
   "source": []
  },
  {
   "cell_type": "markdown",
   "id": "dc30dec1",
   "metadata": {},
   "source": [
    "# Project using Gradiant descent Using Boston data"
   ]
  },
  {
   "cell_type": "code",
   "execution_count": 1,
   "id": "e19ad443",
   "metadata": {},
   "outputs": [],
   "source": [
    "import numpy as np\n",
    "import pandas as pd\n",
    "from sklearn import preprocessing"
   ]
  },
  {
   "cell_type": "code",
   "execution_count": 2,
   "id": "0009da28",
   "metadata": {},
   "outputs": [
    {
     "data": {
      "text/html": [
       "<div>\n",
       "<style scoped>\n",
       "    .dataframe tbody tr th:only-of-type {\n",
       "        vertical-align: middle;\n",
       "    }\n",
       "\n",
       "    .dataframe tbody tr th {\n",
       "        vertical-align: top;\n",
       "    }\n",
       "\n",
       "    .dataframe thead th {\n",
       "        text-align: right;\n",
       "    }\n",
       "</style>\n",
       "<table border=\"1\" class=\"dataframe\">\n",
       "  <thead>\n",
       "    <tr style=\"text-align: right;\">\n",
       "      <th></th>\n",
       "      <th># CRIM</th>\n",
       "      <th>ZN</th>\n",
       "      <th>INDUS</th>\n",
       "      <th>CHAS</th>\n",
       "      <th>NOX</th>\n",
       "      <th>RM</th>\n",
       "      <th>AGE</th>\n",
       "      <th>DIS</th>\n",
       "      <th>RAD</th>\n",
       "      <th>TAX</th>\n",
       "      <th>PTRATIO</th>\n",
       "      <th>B</th>\n",
       "      <th>LSTAT</th>\n",
       "      <th>Y</th>\n",
       "    </tr>\n",
       "  </thead>\n",
       "  <tbody>\n",
       "    <tr>\n",
       "      <th>0</th>\n",
       "      <td>-0.407850</td>\n",
       "      <td>-0.487722</td>\n",
       "      <td>-1.266023</td>\n",
       "      <td>-0.272599</td>\n",
       "      <td>-0.576134</td>\n",
       "      <td>1.239974</td>\n",
       "      <td>0.840122</td>\n",
       "      <td>-0.520264</td>\n",
       "      <td>-0.752922</td>\n",
       "      <td>-1.278354</td>\n",
       "      <td>-0.303094</td>\n",
       "      <td>0.410571</td>\n",
       "      <td>-1.097990</td>\n",
       "      <td>37.9</td>\n",
       "    </tr>\n",
       "    <tr>\n",
       "      <th>1</th>\n",
       "      <td>-0.407374</td>\n",
       "      <td>-0.487722</td>\n",
       "      <td>0.247057</td>\n",
       "      <td>-0.272599</td>\n",
       "      <td>-1.016689</td>\n",
       "      <td>0.001946</td>\n",
       "      <td>-0.838337</td>\n",
       "      <td>0.336351</td>\n",
       "      <td>-0.523001</td>\n",
       "      <td>-0.060801</td>\n",
       "      <td>0.113032</td>\n",
       "      <td>0.291169</td>\n",
       "      <td>-0.520474</td>\n",
       "      <td>21.4</td>\n",
       "    </tr>\n",
       "    <tr>\n",
       "      <th>2</th>\n",
       "      <td>0.125179</td>\n",
       "      <td>-0.487722</td>\n",
       "      <td>1.015999</td>\n",
       "      <td>-0.272599</td>\n",
       "      <td>1.367490</td>\n",
       "      <td>-0.439699</td>\n",
       "      <td>0.687212</td>\n",
       "      <td>-0.577309</td>\n",
       "      <td>1.661245</td>\n",
       "      <td>1.530926</td>\n",
       "      <td>0.806576</td>\n",
       "      <td>-3.795795</td>\n",
       "      <td>0.891076</td>\n",
       "      <td>12.7</td>\n",
       "    </tr>\n",
       "    <tr>\n",
       "      <th>3</th>\n",
       "      <td>0.028304</td>\n",
       "      <td>-0.487722</td>\n",
       "      <td>1.015999</td>\n",
       "      <td>-0.272599</td>\n",
       "      <td>1.859875</td>\n",
       "      <td>-0.047918</td>\n",
       "      <td>0.801005</td>\n",
       "      <td>-0.712836</td>\n",
       "      <td>1.661245</td>\n",
       "      <td>1.530926</td>\n",
       "      <td>0.806576</td>\n",
       "      <td>-0.066050</td>\n",
       "      <td>0.215438</td>\n",
       "      <td>19.9</td>\n",
       "    </tr>\n",
       "    <tr>\n",
       "      <th>4</th>\n",
       "      <td>-0.412408</td>\n",
       "      <td>-0.487722</td>\n",
       "      <td>-0.969827</td>\n",
       "      <td>-0.272599</td>\n",
       "      <td>-0.913029</td>\n",
       "      <td>-0.384137</td>\n",
       "      <td>-0.834781</td>\n",
       "      <td>0.300508</td>\n",
       "      <td>-0.752922</td>\n",
       "      <td>-0.957633</td>\n",
       "      <td>0.020560</td>\n",
       "      <td>0.431074</td>\n",
       "      <td>0.029007</td>\n",
       "      <td>22.5</td>\n",
       "    </tr>\n",
       "  </tbody>\n",
       "</table>\n",
       "</div>"
      ],
      "text/plain": [
       "     # CRIM        ZN     INDUS      CHAS       NOX        RM       AGE  \\\n",
       "0 -0.407850 -0.487722 -1.266023 -0.272599 -0.576134  1.239974  0.840122   \n",
       "1 -0.407374 -0.487722  0.247057 -0.272599 -1.016689  0.001946 -0.838337   \n",
       "2  0.125179 -0.487722  1.015999 -0.272599  1.367490 -0.439699  0.687212   \n",
       "3  0.028304 -0.487722  1.015999 -0.272599  1.859875 -0.047918  0.801005   \n",
       "4 -0.412408 -0.487722 -0.969827 -0.272599 -0.913029 -0.384137 -0.834781   \n",
       "\n",
       "        DIS       RAD       TAX   PTRATIO         B     LSTAT     Y  \n",
       "0 -0.520264 -0.752922 -1.278354 -0.303094  0.410571 -1.097990  37.9  \n",
       "1  0.336351 -0.523001 -0.060801  0.113032  0.291169 -0.520474  21.4  \n",
       "2 -0.577309  1.661245  1.530926  0.806576 -3.795795  0.891076  12.7  \n",
       "3 -0.712836  1.661245  1.530926  0.806576 -0.066050  0.215438  19.9  \n",
       "4  0.300508 -0.752922 -0.957633  0.020560  0.431074  0.029007  22.5  "
      ]
     },
     "execution_count": 2,
     "metadata": {},
     "output_type": "execute_result"
    }
   ],
   "source": [
    "data=pd.read_csv('0000000000002417_training_boston_x_y_train-Copy1.csv',delimiter=',')\n",
    "data.head()"
   ]
  },
  {
   "cell_type": "code",
   "execution_count": 3,
   "id": "3fe38b9e",
   "metadata": {},
   "outputs": [],
   "source": [
    "Y=data[' Y']\n",
    "del data[' Y']"
   ]
  },
  {
   "cell_type": "code",
   "execution_count": 4,
   "id": "2b45dd43",
   "metadata": {},
   "outputs": [
    {
     "data": {
      "text/html": [
       "<div>\n",
       "<style scoped>\n",
       "    .dataframe tbody tr th:only-of-type {\n",
       "        vertical-align: middle;\n",
       "    }\n",
       "\n",
       "    .dataframe tbody tr th {\n",
       "        vertical-align: top;\n",
       "    }\n",
       "\n",
       "    .dataframe thead th {\n",
       "        text-align: right;\n",
       "    }\n",
       "</style>\n",
       "<table border=\"1\" class=\"dataframe\">\n",
       "  <thead>\n",
       "    <tr style=\"text-align: right;\">\n",
       "      <th></th>\n",
       "      <th># CRIM</th>\n",
       "      <th>ZN</th>\n",
       "      <th>INDUS</th>\n",
       "      <th>CHAS</th>\n",
       "      <th>NOX</th>\n",
       "      <th>RM</th>\n",
       "      <th>AGE</th>\n",
       "      <th>DIS</th>\n",
       "      <th>RAD</th>\n",
       "      <th>TAX</th>\n",
       "      <th>PTRATIO</th>\n",
       "      <th>B</th>\n",
       "      <th>LSTAT</th>\n",
       "    </tr>\n",
       "  </thead>\n",
       "  <tbody>\n",
       "    <tr>\n",
       "      <th>0</th>\n",
       "      <td>-0.407850</td>\n",
       "      <td>-0.487722</td>\n",
       "      <td>-1.266023</td>\n",
       "      <td>-0.272599</td>\n",
       "      <td>-0.576134</td>\n",
       "      <td>1.239974</td>\n",
       "      <td>0.840122</td>\n",
       "      <td>-0.520264</td>\n",
       "      <td>-0.752922</td>\n",
       "      <td>-1.278354</td>\n",
       "      <td>-0.303094</td>\n",
       "      <td>0.410571</td>\n",
       "      <td>-1.097990</td>\n",
       "    </tr>\n",
       "    <tr>\n",
       "      <th>1</th>\n",
       "      <td>-0.407374</td>\n",
       "      <td>-0.487722</td>\n",
       "      <td>0.247057</td>\n",
       "      <td>-0.272599</td>\n",
       "      <td>-1.016689</td>\n",
       "      <td>0.001946</td>\n",
       "      <td>-0.838337</td>\n",
       "      <td>0.336351</td>\n",
       "      <td>-0.523001</td>\n",
       "      <td>-0.060801</td>\n",
       "      <td>0.113032</td>\n",
       "      <td>0.291169</td>\n",
       "      <td>-0.520474</td>\n",
       "    </tr>\n",
       "    <tr>\n",
       "      <th>2</th>\n",
       "      <td>0.125179</td>\n",
       "      <td>-0.487722</td>\n",
       "      <td>1.015999</td>\n",
       "      <td>-0.272599</td>\n",
       "      <td>1.367490</td>\n",
       "      <td>-0.439699</td>\n",
       "      <td>0.687212</td>\n",
       "      <td>-0.577309</td>\n",
       "      <td>1.661245</td>\n",
       "      <td>1.530926</td>\n",
       "      <td>0.806576</td>\n",
       "      <td>-3.795795</td>\n",
       "      <td>0.891076</td>\n",
       "    </tr>\n",
       "    <tr>\n",
       "      <th>3</th>\n",
       "      <td>0.028304</td>\n",
       "      <td>-0.487722</td>\n",
       "      <td>1.015999</td>\n",
       "      <td>-0.272599</td>\n",
       "      <td>1.859875</td>\n",
       "      <td>-0.047918</td>\n",
       "      <td>0.801005</td>\n",
       "      <td>-0.712836</td>\n",
       "      <td>1.661245</td>\n",
       "      <td>1.530926</td>\n",
       "      <td>0.806576</td>\n",
       "      <td>-0.066050</td>\n",
       "      <td>0.215438</td>\n",
       "    </tr>\n",
       "    <tr>\n",
       "      <th>4</th>\n",
       "      <td>-0.412408</td>\n",
       "      <td>-0.487722</td>\n",
       "      <td>-0.969827</td>\n",
       "      <td>-0.272599</td>\n",
       "      <td>-0.913029</td>\n",
       "      <td>-0.384137</td>\n",
       "      <td>-0.834781</td>\n",
       "      <td>0.300508</td>\n",
       "      <td>-0.752922</td>\n",
       "      <td>-0.957633</td>\n",
       "      <td>0.020560</td>\n",
       "      <td>0.431074</td>\n",
       "      <td>0.029007</td>\n",
       "    </tr>\n",
       "  </tbody>\n",
       "</table>\n",
       "</div>"
      ],
      "text/plain": [
       "     # CRIM        ZN     INDUS      CHAS       NOX        RM       AGE  \\\n",
       "0 -0.407850 -0.487722 -1.266023 -0.272599 -0.576134  1.239974  0.840122   \n",
       "1 -0.407374 -0.487722  0.247057 -0.272599 -1.016689  0.001946 -0.838337   \n",
       "2  0.125179 -0.487722  1.015999 -0.272599  1.367490 -0.439699  0.687212   \n",
       "3  0.028304 -0.487722  1.015999 -0.272599  1.859875 -0.047918  0.801005   \n",
       "4 -0.412408 -0.487722 -0.969827 -0.272599 -0.913029 -0.384137 -0.834781   \n",
       "\n",
       "        DIS       RAD       TAX   PTRATIO         B     LSTAT  \n",
       "0 -0.520264 -0.752922 -1.278354 -0.303094  0.410571 -1.097990  \n",
       "1  0.336351 -0.523001 -0.060801  0.113032  0.291169 -0.520474  \n",
       "2 -0.577309  1.661245  1.530926  0.806576 -3.795795  0.891076  \n",
       "3 -0.712836  1.661245  1.530926  0.806576 -0.066050  0.215438  \n",
       "4  0.300508 -0.752922 -0.957633  0.020560  0.431074  0.029007  "
      ]
     },
     "execution_count": 4,
     "metadata": {},
     "output_type": "execute_result"
    }
   ],
   "source": [
    "data.head()"
   ]
  },
  {
   "cell_type": "code",
   "execution_count": 5,
   "id": "0e017689",
   "metadata": {},
   "outputs": [
    {
     "data": {
      "text/html": [
       "<div>\n",
       "<style scoped>\n",
       "    .dataframe tbody tr th:only-of-type {\n",
       "        vertical-align: middle;\n",
       "    }\n",
       "\n",
       "    .dataframe tbody tr th {\n",
       "        vertical-align: top;\n",
       "    }\n",
       "\n",
       "    .dataframe thead th {\n",
       "        text-align: right;\n",
       "    }\n",
       "</style>\n",
       "<table border=\"1\" class=\"dataframe\">\n",
       "  <thead>\n",
       "    <tr style=\"text-align: right;\">\n",
       "      <th></th>\n",
       "      <th>0</th>\n",
       "      <th>1</th>\n",
       "      <th>2</th>\n",
       "      <th>3</th>\n",
       "      <th>4</th>\n",
       "      <th>5</th>\n",
       "      <th>6</th>\n",
       "      <th>7</th>\n",
       "      <th>8</th>\n",
       "      <th>9</th>\n",
       "      <th>10</th>\n",
       "      <th>11</th>\n",
       "      <th>12</th>\n",
       "    </tr>\n",
       "  </thead>\n",
       "  <tbody>\n",
       "    <tr>\n",
       "      <th>0</th>\n",
       "      <td>-0.400981</td>\n",
       "      <td>-0.490427</td>\n",
       "      <td>-1.281492</td>\n",
       "      <td>-0.287849</td>\n",
       "      <td>-0.605917</td>\n",
       "      <td>1.207950</td>\n",
       "      <td>0.814838</td>\n",
       "      <td>-0.505604</td>\n",
       "      <td>-0.784522</td>\n",
       "      <td>-1.297963</td>\n",
       "      <td>-0.322642</td>\n",
       "      <td>0.420280</td>\n",
       "      <td>-1.100955</td>\n",
       "    </tr>\n",
       "    <tr>\n",
       "      <th>1</th>\n",
       "      <td>-0.400534</td>\n",
       "      <td>-0.490427</td>\n",
       "      <td>0.207535</td>\n",
       "      <td>-0.287849</td>\n",
       "      <td>-1.047205</td>\n",
       "      <td>-0.030261</td>\n",
       "      <td>-0.891071</td>\n",
       "      <td>0.328940</td>\n",
       "      <td>-0.557982</td>\n",
       "      <td>-0.102675</td>\n",
       "      <td>0.093911</td>\n",
       "      <td>0.302580</td>\n",
       "      <td>-0.531433</td>\n",
       "    </tr>\n",
       "    <tr>\n",
       "      <th>2</th>\n",
       "      <td>0.099008</td>\n",
       "      <td>-0.490427</td>\n",
       "      <td>0.964253</td>\n",
       "      <td>-0.287849</td>\n",
       "      <td>1.340946</td>\n",
       "      <td>-0.471970</td>\n",
       "      <td>0.659427</td>\n",
       "      <td>-0.561179</td>\n",
       "      <td>1.594148</td>\n",
       "      <td>1.459945</td>\n",
       "      <td>0.788166</td>\n",
       "      <td>-3.726145</td>\n",
       "      <td>0.860578</td>\n",
       "    </tr>\n",
       "    <tr>\n",
       "      <th>3</th>\n",
       "      <td>0.008138</td>\n",
       "      <td>-0.490427</td>\n",
       "      <td>0.964253</td>\n",
       "      <td>-0.287849</td>\n",
       "      <td>1.834151</td>\n",
       "      <td>-0.080131</td>\n",
       "      <td>0.775082</td>\n",
       "      <td>-0.693215</td>\n",
       "      <td>1.594148</td>\n",
       "      <td>1.459945</td>\n",
       "      <td>0.788166</td>\n",
       "      <td>-0.049549</td>\n",
       "      <td>0.194293</td>\n",
       "    </tr>\n",
       "    <tr>\n",
       "      <th>4</th>\n",
       "      <td>-0.405257</td>\n",
       "      <td>-0.490427</td>\n",
       "      <td>-0.990005</td>\n",
       "      <td>-0.287849</td>\n",
       "      <td>-0.943373</td>\n",
       "      <td>-0.416400</td>\n",
       "      <td>-0.887456</td>\n",
       "      <td>0.294021</td>\n",
       "      <td>-0.784522</td>\n",
       "      <td>-0.983107</td>\n",
       "      <td>0.001343</td>\n",
       "      <td>0.440491</td>\n",
       "      <td>0.010442</td>\n",
       "    </tr>\n",
       "  </tbody>\n",
       "</table>\n",
       "</div>"
      ],
      "text/plain": [
       "         0         1         2         3         4         5         6   \\\n",
       "0 -0.400981 -0.490427 -1.281492 -0.287849 -0.605917  1.207950  0.814838   \n",
       "1 -0.400534 -0.490427  0.207535 -0.287849 -1.047205 -0.030261 -0.891071   \n",
       "2  0.099008 -0.490427  0.964253 -0.287849  1.340946 -0.471970  0.659427   \n",
       "3  0.008138 -0.490427  0.964253 -0.287849  1.834151 -0.080131  0.775082   \n",
       "4 -0.405257 -0.490427 -0.990005 -0.287849 -0.943373 -0.416400 -0.887456   \n",
       "\n",
       "         7         8         9         10        11        12  \n",
       "0 -0.505604 -0.784522 -1.297963 -0.322642  0.420280 -1.100955  \n",
       "1  0.328940 -0.557982 -0.102675  0.093911  0.302580 -0.531433  \n",
       "2 -0.561179  1.594148  1.459945  0.788166 -3.726145  0.860578  \n",
       "3 -0.693215  1.594148  1.459945  0.788166 -0.049549  0.194293  \n",
       "4  0.294021 -0.784522 -0.983107  0.001343  0.440491  0.010442  "
      ]
     },
     "execution_count": 5,
     "metadata": {},
     "output_type": "execute_result"
    }
   ],
   "source": [
    "data_scaled=preprocessing.scale(data)\n",
    "data_scaled=pd.DataFrame(data_scaled)\n",
    "data_scaled.head()"
   ]
  },
  {
   "cell_type": "code",
   "execution_count": 6,
   "id": "92c00136",
   "metadata": {},
   "outputs": [
    {
     "data": {
      "text/html": [
       "<div>\n",
       "<style scoped>\n",
       "    .dataframe tbody tr th:only-of-type {\n",
       "        vertical-align: middle;\n",
       "    }\n",
       "\n",
       "    .dataframe tbody tr th {\n",
       "        vertical-align: top;\n",
       "    }\n",
       "\n",
       "    .dataframe thead th {\n",
       "        text-align: right;\n",
       "    }\n",
       "</style>\n",
       "<table border=\"1\" class=\"dataframe\">\n",
       "  <thead>\n",
       "    <tr style=\"text-align: right;\">\n",
       "      <th></th>\n",
       "      <th>0</th>\n",
       "      <th>1</th>\n",
       "      <th>2</th>\n",
       "      <th>3</th>\n",
       "      <th>4</th>\n",
       "      <th>5</th>\n",
       "      <th>6</th>\n",
       "      <th>7</th>\n",
       "      <th>8</th>\n",
       "      <th>9</th>\n",
       "      <th>10</th>\n",
       "      <th>11</th>\n",
       "      <th>12</th>\n",
       "      <th>lc</th>\n",
       "    </tr>\n",
       "  </thead>\n",
       "  <tbody>\n",
       "    <tr>\n",
       "      <th>0</th>\n",
       "      <td>-0.400981</td>\n",
       "      <td>-0.490427</td>\n",
       "      <td>-1.281492</td>\n",
       "      <td>-0.287849</td>\n",
       "      <td>-0.605917</td>\n",
       "      <td>1.207950</td>\n",
       "      <td>0.814838</td>\n",
       "      <td>-0.505604</td>\n",
       "      <td>-0.784522</td>\n",
       "      <td>-1.297963</td>\n",
       "      <td>-0.322642</td>\n",
       "      <td>0.420280</td>\n",
       "      <td>-1.100955</td>\n",
       "      <td>1.0</td>\n",
       "    </tr>\n",
       "    <tr>\n",
       "      <th>1</th>\n",
       "      <td>-0.400534</td>\n",
       "      <td>-0.490427</td>\n",
       "      <td>0.207535</td>\n",
       "      <td>-0.287849</td>\n",
       "      <td>-1.047205</td>\n",
       "      <td>-0.030261</td>\n",
       "      <td>-0.891071</td>\n",
       "      <td>0.328940</td>\n",
       "      <td>-0.557982</td>\n",
       "      <td>-0.102675</td>\n",
       "      <td>0.093911</td>\n",
       "      <td>0.302580</td>\n",
       "      <td>-0.531433</td>\n",
       "      <td>1.0</td>\n",
       "    </tr>\n",
       "    <tr>\n",
       "      <th>2</th>\n",
       "      <td>0.099008</td>\n",
       "      <td>-0.490427</td>\n",
       "      <td>0.964253</td>\n",
       "      <td>-0.287849</td>\n",
       "      <td>1.340946</td>\n",
       "      <td>-0.471970</td>\n",
       "      <td>0.659427</td>\n",
       "      <td>-0.561179</td>\n",
       "      <td>1.594148</td>\n",
       "      <td>1.459945</td>\n",
       "      <td>0.788166</td>\n",
       "      <td>-3.726145</td>\n",
       "      <td>0.860578</td>\n",
       "      <td>1.0</td>\n",
       "    </tr>\n",
       "    <tr>\n",
       "      <th>3</th>\n",
       "      <td>0.008138</td>\n",
       "      <td>-0.490427</td>\n",
       "      <td>0.964253</td>\n",
       "      <td>-0.287849</td>\n",
       "      <td>1.834151</td>\n",
       "      <td>-0.080131</td>\n",
       "      <td>0.775082</td>\n",
       "      <td>-0.693215</td>\n",
       "      <td>1.594148</td>\n",
       "      <td>1.459945</td>\n",
       "      <td>0.788166</td>\n",
       "      <td>-0.049549</td>\n",
       "      <td>0.194293</td>\n",
       "      <td>1.0</td>\n",
       "    </tr>\n",
       "    <tr>\n",
       "      <th>4</th>\n",
       "      <td>-0.405257</td>\n",
       "      <td>-0.490427</td>\n",
       "      <td>-0.990005</td>\n",
       "      <td>-0.287849</td>\n",
       "      <td>-0.943373</td>\n",
       "      <td>-0.416400</td>\n",
       "      <td>-0.887456</td>\n",
       "      <td>0.294021</td>\n",
       "      <td>-0.784522</td>\n",
       "      <td>-0.983107</td>\n",
       "      <td>0.001343</td>\n",
       "      <td>0.440491</td>\n",
       "      <td>0.010442</td>\n",
       "      <td>1.0</td>\n",
       "    </tr>\n",
       "  </tbody>\n",
       "</table>\n",
       "</div>"
      ],
      "text/plain": [
       "          0         1         2         3         4         5         6  \\\n",
       "0 -0.400981 -0.490427 -1.281492 -0.287849 -0.605917  1.207950  0.814838   \n",
       "1 -0.400534 -0.490427  0.207535 -0.287849 -1.047205 -0.030261 -0.891071   \n",
       "2  0.099008 -0.490427  0.964253 -0.287849  1.340946 -0.471970  0.659427   \n",
       "3  0.008138 -0.490427  0.964253 -0.287849  1.834151 -0.080131  0.775082   \n",
       "4 -0.405257 -0.490427 -0.990005 -0.287849 -0.943373 -0.416400 -0.887456   \n",
       "\n",
       "          7         8         9        10        11        12   lc  \n",
       "0 -0.505604 -0.784522 -1.297963 -0.322642  0.420280 -1.100955  1.0  \n",
       "1  0.328940 -0.557982 -0.102675  0.093911  0.302580 -0.531433  1.0  \n",
       "2 -0.561179  1.594148  1.459945  0.788166 -3.726145  0.860578  1.0  \n",
       "3 -0.693215  1.594148  1.459945  0.788166 -0.049549  0.194293  1.0  \n",
       "4  0.294021 -0.784522 -0.983107  0.001343  0.440491  0.010442  1.0  "
      ]
     },
     "execution_count": 6,
     "metadata": {},
     "output_type": "execute_result"
    }
   ],
   "source": [
    "lc=np.ones(data_scaled.shape[0])\n",
    "lc.shape\n",
    "data_scaled['lc']=lc\n",
    "data_scaled.head()"
   ]
  },
  {
   "cell_type": "code",
   "execution_count": 7,
   "id": "52571cd4",
   "metadata": {},
   "outputs": [
    {
     "data": {
      "text/plain": [
       "(379, 14)"
      ]
     },
     "execution_count": 7,
     "metadata": {},
     "output_type": "execute_result"
    }
   ],
   "source": [
    "points=np.array(data_scaled)\n",
    "points.shape"
   ]
  },
  {
   "cell_type": "code",
   "execution_count": 19,
   "id": "fc76a2b9",
   "metadata": {},
   "outputs": [],
   "source": [
    "def step_gd(points,learning_rate,m):\n",
    "    M=len(points)\n",
    "    m_slope=np.zeros(14)\n",
    "    for i in range(M):\n",
    "        x=points[i]\n",
    "        y=Y[i]\n",
    "        for j in range(14):\n",
    "            m_slope[j] += (-2/M)*(y-(m*x).sum())*x[j]\n",
    "    for j in range(14):\n",
    "        m[j] += m[j] - m_slope[j]*learning_rate\n",
    "    return m"
   ]
  },
  {
   "cell_type": "code",
   "execution_count": 20,
   "id": "710634bb",
   "metadata": {},
   "outputs": [],
   "source": [
    "def gd(points,learning_rate,number_iteration):\n",
    "    m=np.zeros(14)\n",
    "    for i in range(number_iteration):\n",
    "        m=step_gd(points,learning_rate,m)\n",
    "        print(i,'cost:',cost(points,m))\n",
    "    return m"
   ]
  },
  {
   "cell_type": "code",
   "execution_count": 21,
   "id": "0366c420",
   "metadata": {},
   "outputs": [],
   "source": [
    "def cost(points,m):\n",
    "    total_cost=0\n",
    "    M=len(points)\n",
    "    for i in range(M):\n",
    "        x=points[i]\n",
    "        y=Y[i]\n",
    "        total_cost +=(1/M)*((y-(m*x).sum())**2)\n",
    "    return total_cost"
   ]
  },
  {
   "cell_type": "code",
   "execution_count": 22,
   "id": "9df8f811",
   "metadata": {},
   "outputs": [],
   "source": [
    "def run():\n",
    "    learning_rate=0.001\n",
    "    number_iteration=100\n",
    "    m = gd(points, learning_rate, number_iteration)\n",
    "    print(m)\n",
    "    return m"
   ]
  },
  {
   "cell_type": "code",
   "execution_count": 23,
   "id": "589c321e",
   "metadata": {},
   "outputs": [
    {
     "name": "stdout",
     "output_type": "stream",
     "text": [
      "0 cost: 596.1899201459963\n",
      "1 cost: 590.3788090599924\n",
      "2 cost: 578.9422075131234\n",
      "3 cost: 556.7515443744264\n",
      "4 cost: 514.9701761350445\n",
      "5 cost: 441.5051241448734\n",
      "6 cost: 334.19449331655784\n",
      "7 cost: 275.84450956561284\n",
      "8 cost: 777.1825622544492\n",
      "9 cost: 4227.484849564654\n",
      "10 cost: 20828.25508323885\n",
      "11 cost: 92486.42725622229\n",
      "12 cost: 388295.0419822227\n",
      "13 cost: 1584656.8168087788\n",
      "14 cost: 6375799.494719463\n",
      "15 cost: 25470655.26143947\n",
      "16 cost: 101390272.24911149\n",
      "17 cost: 402882790.1191717\n",
      "18 cost: 1599473895.2440233\n",
      "19 cost: 6347279178.82058\n",
      "20 cost: 25183068065.534195\n",
      "21 cost: 99905611045.8291\n",
      "22 cost: 396329403629.1263\n",
      "23 cost: 1572245839629.2334\n",
      "24 cost: 6237186070924.689\n",
      "25 cost: 24743676742835.285\n",
      "26 cost: 98163192780502.27\n",
      "27 cost: 389442060830132.3\n",
      "28 cost: 1545066580930540.0\n",
      "29 cost: 6130020613567809.0\n",
      "30 cost: 2.432132254896031e+16\n",
      "31 cost: 9.649904825318011e+16\n",
      "32 cost: 3.828860207372772e+17\n",
      "33 cost: 1.5192409670988529e+18\n",
      "34 cost: 6.028295247020782e+18\n",
      "35 cost: 2.3920656190891885e+19\n",
      "36 cost: 9.49210224736879e+19\n",
      "37 cost: 3.7667126507812035e+20\n",
      "38 cost: 1.494766503355537e+21\n",
      "39 cost: 5.931916448487751e+21\n",
      "40 cost: 2.3541141258387006e+22\n",
      "41 cost: 9.34266632677619e+22\n",
      "42 cost: 3.7078744215658896e+23\n",
      "43 cost: 1.471600970848308e+24\n",
      "44 cost: 5.840714794985934e+24\n",
      "45 cost: 2.3182103206670802e+25\n",
      "46 cost: 9.201329549057046e+25\n",
      "47 cost: 3.6522396356243616e+26\n",
      "48 cost: 1.449702501373962e+27\n",
      "49 cost: 5.754524816111332e+27\n",
      "50 cost: 2.284288823460775e+28\n",
      "51 cost: 9.067833620247793e+28\n",
      "52 cost: 3.599706256989702e+29\n",
      "53 cost: 1.429030788303431e+30\n",
      "54 cost: 5.673187294377883e+30\n",
      "55 cost: 2.252286741609103e+31\n",
      "56 cost: 8.941930109907083e+31\n",
      "57 cost: 3.550176154441168e+32\n",
      "58 cost: 1.4095470695431068e+33\n",
      "59 cost: 5.59654911924424e+33\n",
      "60 cost: 2.222143596628467e+34\n",
      "61 cost: 8.82338012985192e+34\n",
      "62 cost: 3.503554968307106e+35\n",
      "63 cost: 1.391214073655107e+36\n",
      "64 cost: 5.524463071720964e+36\n",
      "65 cost: 2.193801238554036e+37\n",
      "66 cost: 8.711953994889223e+37\n",
      "67 cost: 3.459751976206982e+38\n",
      "68 cost: 1.3739959667664705e+39\n",
      "69 cost: 5.456787614506386e+39\n",
      "70 cost: 2.167203762997501e+40\n",
      "71 cost: 8.607430895043255e+40\n",
      "72 cost: 3.418679963527859e+41\n",
      "73 cost: 1.3578583013875863e+42\n",
      "74 cost: 5.3933866897437537e+42\n",
      "75 cost: 2.1422974312317477e+43\n",
      "76 cost: 8.50959857977523e+43\n",
      "77 cost: 3.3802550986461e+44\n",
      "78 cost: 1.3427679671069894e+45\n",
      "79 cost: 5.3341295241956374e+45\n",
      "80 cost: 2.1190305932072063e+46\n",
      "81 cost: 8.41825305378912e+46\n",
      "82 cost: 3.3443968127277205e+47\n",
      "83 cost: 1.3286931430955924e+48\n",
      "84 cost: 5.278890441569073e+48\n",
      "85 cost: 2.0973536133939216e+49\n",
      "86 cost: 8.333198284004236e+49\n",
      "87 cost: 3.311027683941671e+50\n",
      "88 cost: 1.3156032523548136e+51\n",
      "89 cost: 5.227548681731982e+51\n",
      "90 cost: 2.0772187993470188e+52\n",
      "91 cost: 8.254245917289819e+52\n",
      "92 cost: 3.2800733259260303e+53\n",
      "93 cost: 1.3034689176453374e+54\n",
      "94 cost: 5.179988226571192e+54\n",
      "95 cost: 2.058580332896712e+55\n",
      "96 cost: 8.181215008571377e+55\n",
      "97 cost: 3.2514622803528624e+56\n",
      "98 cost: 1.2922619190356078e+57\n",
      "99 cost: 5.1360976322512745e+57\n",
      "[-4.98918270e+27  3.63978945e+27 -6.12463731e+27  3.67505516e+27\n",
      " -4.93562141e+27  1.20038459e+28 -3.94947266e+27  1.08044064e+27\n",
      " -3.62196592e+27 -5.43282211e+27 -7.99932854e+27  4.54910276e+27\n",
      " -1.22748624e+28  5.19683318e+28]\n"
     ]
    }
   ],
   "source": [
    "m=run()"
   ]
  },
  {
   "cell_type": "code",
   "execution_count": null,
   "id": "e38efcfb",
   "metadata": {},
   "outputs": [],
   "source": []
  },
  {
   "cell_type": "code",
   "execution_count": null,
   "id": "5f3d54c9",
   "metadata": {},
   "outputs": [],
   "source": []
  },
  {
   "cell_type": "code",
   "execution_count": null,
   "id": "c7e1df40",
   "metadata": {},
   "outputs": [],
   "source": []
  },
  {
   "cell_type": "code",
   "execution_count": null,
   "id": "b02da239",
   "metadata": {},
   "outputs": [],
   "source": []
  },
  {
   "cell_type": "code",
   "execution_count": null,
   "id": "5a59adf8",
   "metadata": {},
   "outputs": [],
   "source": []
  }
 ],
 "metadata": {
  "kernelspec": {
   "display_name": "Python 3 (ipykernel)",
   "language": "python",
   "name": "python3"
  },
  "language_info": {
   "codemirror_mode": {
    "name": "ipython",
    "version": 3
   },
   "file_extension": ".py",
   "mimetype": "text/x-python",
   "name": "python",
   "nbconvert_exporter": "python",
   "pygments_lexer": "ipython3",
   "version": "3.9.7"
  }
 },
 "nbformat": 4,
 "nbformat_minor": 5
}
